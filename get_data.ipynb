{
 "nbformat": 4,
 "nbformat_minor": 2,
 "metadata": {
  "language_info": {
   "name": "python",
   "codemirror_mode": {
    "name": "ipython",
    "version": 3
   },
   "version": "3.8.0"
  },
  "orig_nbformat": 2,
  "file_extension": ".py",
  "mimetype": "text/x-python",
  "name": "python",
  "npconvert_exporter": "python",
  "pygments_lexer": "ipython3",
  "version": 3
 },
 "cells": [
  {
   "cell_type": "code",
   "execution_count": 17,
   "metadata": {},
   "outputs": [
    {
     "name": "stdout",
     "output_type": "stream",
     "text": ""
    }
   ],
   "source": [
    "import requests\n",
    "from collections import namedtuple\n",
    "# import validators\n",
    "from bs4 import BeautifulSoup, NavigableString\n",
    "from halo import Halo\n",
    "def get_soup(url):\n",
    "    '''\n",
    "    Returns a BeautifulSoup version of a web page.\n",
    "    '''\n",
    "    response = requests.get(url)\n",
    "    content = response.text\n",
    "    return BeautifulSoup(content)\n",
    "\n",
    "def get_links(table):\n",
    "    '''\n",
    "    Retrieves links from an embedded tabular structure.\n",
    "    '''\n",
    "    links = set()\n",
    "    for child in table.children:\n",
    "        for link in child.find_all('a', href=True):\n",
    "            links.add(link['href'])\n",
    "\n",
    "    return links"
   ]
  },
  {
   "cell_type": "code",
   "execution_count": 50,
   "metadata": {},
   "outputs": [
    {
     "name": "stdout",
     "output_type": "stream",
     "text": "⠋ Fetching article list . . .⠙ Fetching article list . . .⠹ Fetching article list . . .⠸ Fetching article list . . .⠼ Fetching article list . . .⠴ Fetching article list . . .✔ Fetching list ===> Done\n⠙ Processing articles . . ."
    }
   ],
   "source": [
    "url = 'http://christmas-specials.wikia.com/'\n",
    "    #data='xmas'\n",
    "    # if not validators.url(url):\n",
    "    #     print('Invalid URL')\n",
    "    # path = pathlib.Path(data)\n",
    "\n",
    "spinner = Halo(text='Fetching article list . . .')\n",
    "spinner.start()\n",
    "    \n",
    "soup = get_soup(url + '/wiki/Special:AllPages')\n",
    "spinner.succeed(text='Fetching list ===> Done')\n",
    "\n",
    "'''Process the articles'''\n",
    "\n",
    "articles = set()\n",
    "\n",
    "spinner = Halo(text='Processing articles . . .')\n",
    "spinner.start()\n",
    "\n",
    "table_chunks = soup.find('table', \n",
    "        {'class': ['allpageslist', 'mw-allpages-table-chunk']})\n",
    "    \n",
    "chunks = set(get_links(table_chunks))\n",
    "\n",
    "chunks_done = 0\n",
    "chunks_left = len(chunks)"
   ]
  },
  {
   "cell_type": "code",
   "execution_count": 70,
   "metadata": {},
   "outputs": [
    {
     "name": "stdout",
     "output_type": "stream",
     "text": ""
    }
   ],
   "source": [
    "article = '/wiki/Mr._Monk_and_the_Man_Who_Shot_Santa_Claus'\n",
    "def get_article_data(article, url):\n",
    "    article = namedtuple('Article', 'title contents categories')\n",
    "    article_soup = get_soup(url + article)\n",
    "    article_contents = article_soup.find_all('div', {'class': ['mw-content-ltr', 'mw-content-text', 'mw-collapsible', 'mw-made-collapsible']})\n",
    "    article_categories = article_soup.find_all('nav', {'id': 'articleCategories'})\n"
   ]
  },
  {
   "cell_type": "code",
   "execution_count": 71,
   "metadata": {},
   "outputs": [
    {
     "data": {
      "text/plain": "[<nav class=\"article-categories CategorySelect articlePage\" id=\"articleCategories\">\n <div class=\"container\">\n <div class=\"special-categories\"><a class=\"categoriesLink\" href=\"/wiki/Special:Categories\" rel=\"nofollow\" title=\"Special:Categories\">Categories</a>:</div>\n <ul class=\"categories\">\n <li class=\"category normal\" data-name=\"Episodes\" data-namespace=\"\" data-outertag=\"\" data-sortkey=\"\" data-type=\"normal\">\n <span class=\"name\"><a href=\"/wiki/Category:Episodes\" title=\"Category:Episodes\">Episodes</a></span>\n <ul class=\"toolbar\">\n <li class=\"tool editCategory sprite-small edit\" title=\"\"></li>\n <li class=\"tool removeCategory sprite-small delete\" title=\"\"></li>\n </ul>\n </li>\n <li class=\"category normal\" data-name=\"Originally aired on the USA Network\" data-namespace=\"\" data-outertag=\"\" data-sortkey=\"\" data-type=\"normal\">\n <span class=\"name\"><a href=\"/wiki/Category:Originally_aired_on_the_USA_Network\" title=\"Category:Originally aired on the USA Network\">Originally aired on the USA Network</a></span>\n <ul class=\"toolbar\">\n <li class=\"tool editCategory sprite-small edit\" title=\"\"></li>\n <li class=\"tool removeCategory sprite-small delete\" title=\"\"></li>\n </ul>\n </li>\n <li class=\"category normal\" data-name=\"2007 releases\" data-namespace=\"\" data-outertag=\"\" data-sortkey=\"\" data-type=\"normal\">\n <span class=\"name\"><a href=\"/wiki/Category:2007_releases\" title=\"Category:2007 releases\">2007 releases</a></span>\n <ul class=\"toolbar\">\n <li class=\"tool editCategory sprite-small edit\" title=\"\"></li>\n <li class=\"tool removeCategory sprite-small delete\" title=\"\"></li>\n </ul>\n </li>\n <li class=\"category normal\" data-name=\"Universal Studios\" data-namespace=\"\" data-outertag=\"\" data-sortkey=\"\" data-type=\"normal\">\n <span class=\"name\"><a href=\"/wiki/Category:Universal_Studios\" title=\"Category:Universal Studios\">Universal Studios</a></span>\n <ul class=\"toolbar\">\n <li class=\"tool editCategory sprite-small edit\" title=\"\"></li>\n <li class=\"tool removeCategory sprite-small delete\" title=\"\"></li>\n </ul>\n </li>\n <li class=\"category normal\" data-name=\"ABC Studios\" data-namespace=\"\" data-outertag=\"\" data-sortkey=\"\" data-type=\"normal\">\n <span class=\"name\"><a href=\"/wiki/Category:ABC_Studios\" title=\"Category:ABC Studios\">ABC Studios</a></span>\n <ul class=\"toolbar\">\n <li class=\"tool editCategory sprite-small edit\" title=\"\"></li>\n <li class=\"tool removeCategory sprite-small delete\" title=\"\"></li>\n </ul>\n </li>\n </ul>\n </div>\n </nav>]"
     },
     "execution_count": 71,
     "metadata": {},
     "output_type": "execute_result"
    },
    {
     "name": "stdout",
     "output_type": "stream",
     "text": ""
    }
   ],
   "source": [
    "article_contents"
   ]
  },
  {
   "cell_type": "code",
   "execution_count": 51,
   "metadata": {},
   "outputs": [
    {
     "name": "stdout",
     "output_type": "stream",
     "text": "_the_Cuban_Parents\n/wiki/Meet_the_Santas\n/wiki/Meg_Griffin\n/wiki/Mel%27s_Christmas_Carol\n/wiki/Mel,_the_Magi\n/wiki/Mel_Blanc\n/wiki/Melchoir\n/wiki/Mele_Kalikimaka\n/wiki/Mele_Kalikimaka_To_You\n/wiki/Melichior\n/wiki/Melissa\n/wiki/Melissa_Chase\n/wiki/Melissa_Joan_Hart\n/wiki/Melman\n/wiki/Memories_of_Christmas\n/wiki/Mentalo_Case\n/wiki/Meowth\n/wiki/Mercedes_Jones\n/wiki/Merlyn\n/wiki/Merry-In-Laws\n/wiki/Merry_%26_Bright\n/wiki/Merry_Catnip\n/wiki/Merry_Chris-Hanukkah-mas\n/wiki/Merry_Christmas\n/wiki/Merry_Christmas!_(Hamtaro)\n/wiki/Merry_Christmas,_Baby\n/wiki/Merry_Christmas,_Bogg\n/wiki/Merry_Christmas,_Charley\n/wiki/Merry_Christmas,_Charlie_Manson!\n/wiki/Merry_Christmas,_Drake_%26_Josh\n/wiki/Merry_Christmas,_Drake_%26_Josh!\n/wiki/Merry_Christmas,_Drake_and_Josh\n/wiki/Merry_Christmas,_Father_Christmas\n/wiki/Merry_Christmas,_Happy_Holidays\n/wiki/Merry_Christmas,_Kenan\n/wiki/Merry_Christmas,_Little_Bill\n/wiki/Merry_Christmas,_Merry_Christmas\n/wiki/Merry_Christmas,_Mr._Bean\n/wiki/Merry_Christmas,_Mr._Carroll\n/wiki/Merry_Christmas,_Mr._Gooch\n/wiki/Merry_Christmas,_Mr._Lawrence\n/wiki/Merry_Christmas,_Mrs._Moskowitz\n/wiki/Merry_Christmas,_Splat\n/wiki/Merry_Christmas,_Super_Dave!\n/wiki/Merry_Christmas,_Y%27all\n/wiki/Merry_Christmas:_Animaniacs_%26_Looney_Tunes\n/wiki/Merry_Christmas_(Ben_10)\n/wiki/Merry_Christmas_(Creature_Comforts)\n/wiki/Merry_Christmas_(Hanna-Barbera_album)\n/wiki/Merry_Christmas_(I_Don%27t_Want_to_Fight_Tonight)\n/wiki/Merry_Christmas_(Simon)\n/wiki/Merry_Christmas_(song)\n/wiki/Merry_Christmas_After_All\n/wiki/Merry_Christmas_Baby\n/wiki/Merry_Christmas_Darling\n/wiki/Merry_Christmas_Drake_and_Josh\n/wiki/Merry_Christmas_Drake_and_Josh!\n/wiki/Merry_Christmas_Everybody!\n/wiki/Merry_Christmas_Everyone\n/wiki/Merry_Christmas_Mordecai\n/wiki/Merry_Christmas_Mr._Gooch\n/wiki/Merry_Christmas_With_The_Smurfs\n/wiki/Merry_Christmas_from_Grandpa\n/wiki/Merry_Christmas_from_Sesame_Street\n/wiki/Merry_Christmas_to_All_and_a_Pointy_Hat_to_You\n/wiki/Merry_Christmax\n/wiki/Merry_Crap-Mas\n/wiki/Merry_Deathmas\n/wiki/Merry_Entwhistle_and_Jackson_Day\n/wiki/Merry_Evasion\n/wiki/Merry_Ex-Mas\n/wiki/Merry_Ex-Mas_(2016)\n/wiki/Merry_Ex-Mas_(9-1-1)\n/wiki/Merry_Fishmas,_Milo\n/wiki/Merry_Fisticuffs\n/wiki/Merry_Glitchmas\n/wiki/Merry_Grindernukamas\n/wiki/Merry_Happy_Whatever\n/wiki/Merry_In-Laws\n/wiki/Merry_Invasion\n/wiki/Merry_Kissmas\n/wiki/Merry_Kristin\n/wiki/Merry_Larry_and_the_True_Light_of_Christmas\n/wiki/Merry_Liddle_Christmas\n/wiki/Merry_Madagascar\n/wiki/Merry_Matrimony\n/wiki/Merry_Mayhem\n/wiki/Merry_Merry_Christmas\n/wiki/Merry_Merry_It_Up\n/wiki/Merry_Merry_Santa_Comes_to_Town\n/wiki/Merry_Miss_Sis\n/wiki/Merry_Misty_Island\n/wiki/Merry_Moochmas\n/wiki/Merry_Mythmas\n/wiki/Merry_Nickmas\n/wiki/Merry_Nickmas_(album)\n/wiki/Merry_Nickmas_(shorts)\n/wiki/Merry_Pups\n/wiki/Merry_Super_Fun_Christmas\n/wiki/Merry_Winter_Wish\n/wiki/Merry_Wishmas\n/wiki/Merry_Wishmas!\n/wiki/Merry_Woodsmas\n/wiki/Merry_Xmas_Everybody\n/wiki/Met_Someone\n/wiki/Metro-Goldwyn-Mayer\n/wiki/Miami_Twice\n/wiki/Mice\n/wiki/Mice_Meeting_You\n/wiki/Michael_Aschner\n/wiki/Michael_Bubl%C3%A9%27s_Christmas_in_Hollywood\n/wiki/Michael_and_the_Bears\n/wiki/Micheal_Landon_Jr.\n/wiki/Michelangelo\n/wiki/Michelle\n/wiki/Michelle_(American_Dad!)\n/wiki/Michelle_(disambiguation)\n/wiki/Michelle_Tanner\n/wiki/Mickey\n/wiki/Mickey%27s_Christmas_Carol\n/wiki/Mickey%27s_Christmas_Chaos\n/wiki/Mickey%27s_Christmas_Crisis\n/wiki/Mickey%27s_Christmas_Special\n/wiki/Mickey%27s_Good_Deed\n/wiki/Mickey%27s_Magical_Christmas\n/wiki/Mickey%27s_Magical_Christmas:_Snowed_In_At_The_House_Of_Mouse\n/wiki/Mickey%27s_Magical_Christmas:_Snowed_in_at_the_House_of_Mouse\n/wiki/Mickey%27s_Magical_Christmas_Snowed_In_At_The_House_Of_Mouse\n/wiki/Mickey%27s_Magical_Christmas_Snowed_in_at_the_House_of_Mouse\n/wiki/Mickey%27s_Magical_Holiday_2011\n/wiki/Mickey%27s_Mixed_Nuts\n/wiki/Mickey%27s_Nutcracker\n/wiki/Mickey%27s_Once_Upon_A_Christmas\n/wiki/Mickey%27s_Once_Upon_a_Christmas\n/wiki/Mickey%27s_Orphans\n/wiki/Mickey%27s_Twice_Upon_A_Christmas\n/wiki/Mickey%27s_Twice_Upon_a_Christmas\n/wiki/Mickey_Mouse\n/wiki/Mickey_Mouse_Clubhouse\n/wiki/Mickey_Rooney\n/wiki/Mickey_Saves_Santa\n/wiki/Midnight_Clear\n/wiki/Midnight_of_the_Century\n/wiki/Mighty_Morphin_Power_Rangers\n/wiki/Miguel%27s_Wonderful_Life\n/wiki/Mike\n/wiki/Mike_Chang\n/wiki/Mike_Judge\n/wiki/Mike_the_Knight_and_Santa%27s_Little_Helper\n/wiki/Mike_the_Knight_and_the_Christmas_Castle\n/wiki/Mikey\n/wiki/Mikey_Blumberg\n/wiki/Mikey_Munroe\n/wiki/Miles_%22Tails%22_Prower\n/wiki/Miles_Finch\n/wiki/Milhouse_Van_Houten\n/wiki/Miller\n/wiki/Milli_(Team_Umizoomi)\n/wiki/Millie_Burtonburger\n/wiki/Millions\n/wiki/Milly\n/wiki/Milo\n/wiki/Milo_(Fish_Hooks)\n/wiki/Milo_(elf)\n/wiki/Milo_Huntington\n/wiki/Milo_Murphy\n/wiki/Milton\n/wiki/Mimi%27s_Christmas\n/wiki/Mimi_(In_Search_of_Santa)\n/wiki/Mimi_and_the_Mountain_Dragon\n/wiki/Min_barndoms_jular\n/wiki/Mingle_All_the_Way\n/wiki/Minna_No_Christmas\n/wiki/Minnie_Mouse\n/wiki/Minstrel_Krampus\n/wiki/Miracle_Down_Under\n/wiki/Miracle_In_Toyland\n/wiki/Miracle_Near_34th_Street\n/wiki/Miracle_On_34th_Street\n/wiki/Miracle_at_Sage_Creek\n/wiki/Miracle_at_the_34th_Precinct\n/wiki/Miracle_at_the_Teen_Club\n/wiki/Miracle_in_Columbus\n/wiki/Miracle_in_Oaktown\n/wiki/Miracle_in_Toyland\n/wiki/Miracle_on_134th_Street\n/wiki/Miracle_on_135th_and_Avalon\n/wiki/Miracle_on_34th_Street\n/wiki/Miracle_on_34th_Street_(1947)\n/wiki/Miracle_on_34th_Street_(1959)\n/wiki/Miracle_on_34th_Street_(1973)\n/wiki/Miracle_on_34th_Street_(1994)\n/wiki/Miracle_on_34th_Street_and_Rural_Route_1\n/wiki/Miracle_on_3rd_or_4th_Street\n/wiki/Miracle_on_Culpepper_Slims_Boulevard\n/wiki/Miracle_on_Elm_Street\n/wiki/Miracle_on_Evergreen_Terrace\n/wiki/Miracle_on_Third_or_Fourth_Street\n/wiki/Miracles_of_Christmas\n/wiki/Miscellaneous_elves\n/wiki/Misfit_Toys\n/wiki/Miss_Christmas\n/wiki/Miss_Fowl\n/wiki/Miss_Holly\n/wiki/Miss_Me_This_Christmas\n/wiki/Miss_Piggy\n/wiki/Missing_Christmas\n/wiki/Mister_Magoo%27s_Christmas_Carol\n/wiki/Mister_Scrooge_to_See_You!\n/wiki/Mister_and_Mistletoe\n/wiki/Mistletoe_%26_Menorahs\n/wiki/Mistletoe_Over_Manhattan\n/wiki/Mistletoe_Radio\n/wiki/Mistletoe_and_Holly\n/wiki/Mistletoe_and_Wine\n/wiki/Misty\n/wiki/Mitzi\n/wiki/Mix-Ups_%26_Mistletoes\n/wiki/Mix_Ups_%26_Mistletoes\n/wiki/Miyamoto_Usagi\n/wiki/Miyuki\n/wiki/Modern_Men\n/wiki/Moe_Szyslak\n/wiki/Mojo_Jojo\n/wiki/Mokey_Fraggle\n/wiki/Mole\n/wiki/Mole%27s_Christmas\n/wiki/Molly_Cunningham\n/wiki/Mom_(The_Velveteen_Rabbit)\n/wiki/Mommy_Pig\n/wiki/Money,_Money,_Money\n/wiki/Money,_Money,_Money_(Reprise)\n/wiki/Monkey\n/wiki/Monkey_Business\n/wiki/Monkeys\n/wiki/Monster_Fish_(Little_Gobie)\n/wiki/Monster_Machine_Christmas\n/wiki/Monster_Monster_Day\n/wiki/Montana_Max\n/wiki/Moonlight_%26_Mistletoe\n/wiki/Mordecai\n/wiki/Mordecai_and_Rigby\n/wiki/Morgan_Crowley\n/wiki/Mork%27s_First_Christmas\n/wiki/Moroccan_Christmas\n/wiki/Morris%27_Disappearing_Bag\n/wiki/Morris%27s_Disappearing_Bag\n/wiki/Mortimer_Mouse\n/wiki/Mortmottimes\n/wiki/Mother_Christmas\n/wiki/Mother_Nature\n/wiki/Mother_Nature%27s_Son\n/wiki/Mother_Nature_(The_Santa_Clause)\n/wiki/Mother_Nature_(The_Year_Without_a_Santa_Claus)\n/wiki/Mouse_King\n/wiki/Mouseking\n/wiki/Movie_stubs\n/wiki/Movies\n/wiki/Mr._%26_Mrs._Bear\n/wiki/Mr._%26_Mrs._Collie\n/wiki/Mr._%26_Mrs._Polie\n/wiki/Mr._%26_Mrs._Turtle\n/wiki/Mr._Arbuckle\n/wiki/Mr._Bean\n/wiki/Mr._Beet\n/wiki/Mr._Burns\n/wiki/Mr._Busy\n/wiki/Mr._Christmas\n/wiki/Mr._Christmas_(Too_Close_for_Comfort)\n/wiki/Mr._Claus\n/wiki/Mr._Clever\n/wiki/Mr._Cook%27s_Christmas\n/wiki/Mr._Cuddles\n/wiki/Mr._Cuddles_(song)\n/wiki/Mr._Elf\n/wiki/Mr._Fezziwig\n/wiki/Mr._Freeze\n/wiki/Mr._Grouse\n/wiki/Mr._Gus\n/wiki/Mr._Hankey\n/wiki/Mr._Hankey%27s_Christmas_Classics\n/wiki/Mr._Hankey%27s_Christmas_Classics_(album)\n/wiki/Mr._Hankey,_the_Christmas_Poo\n/wiki/Mr._Hankey,_the_Christmas_Poo_(song)\n/wiki/Mr._Herriman\n/wiki/Mr._Hooper\n/wiki/Mr._Hyunh\n/wiki/Mr._Impossible\n/wiki/Mr._Krabs\n/wiki/Mr._Krueger%27s_Christmas\n/wiki/Mr._Lunt\n/wiki/Mr._Lunt_(VeggieTales)\n/wiki/Mr._Maellard\n/wiki/Mr._Magoo\n/wiki/Mr._Magoo%27s_Christmas_Carol\n/wiki/Mr._Men_Christmas_Rescue\n/wiki/Mr._Miracle\n/wiki/Mr._Monk_Meets_His_Dad\n/wiki/Mr._Monk_and_the_Man_Who_Shot_Santa\n/wiki/Christmas_on_the_Coast\n/wiki/Christmas_on_the_Range\n/wiki/Christmas_on_the_River\n/wiki/Christmas_on_the_Square\n/wiki/Christmas_savings\n/wiki/Christmas_special_(La_Familia_Del_Barrio)\n/wiki/Christmas_special_(Mi_coraz%C3%B3n_es_tuyo)\n/wiki/Christmas_special_compilation_videos\n/wiki/Christmas_special_home_video_box_sets\n/wiki/Christmas_special_naming_conventions\n/wiki/Christmas_specials_and_movies_based_on_television_shows\n/wiki/Christmas_television_specials_spun_off_from_theatrical_movies\n/wiki/Christmas_the_%2744\n/wiki/Christmas_with_Ernie_%26_Bert\n/wiki/Christmas_with_Holly\n/wiki/Christmas_with_Santa\n/wiki/Christmas_with_The_Aquabats!\n/wiki/Christmas_with_The_Chipmunks\n/wiki/Christmas_with_Tucker\n/wiki/Christmas_with_a_Capital_%22C%22\n/wiki/Christmas_with_a_Capital_C\n/wiki/Christmas_with_a_Prince\n/wiki/Christmas_with_a_Prince:_Becoming_Royal\n/wiki/Christmas_with_a_Prince:_Royal_Wedding\n/wiki/Christmas_with_the_Addams_Family\n/wiki/Christmas_with_the_Addams_Family_(1965)\n/wiki/Christmas_with_the_Addams_Family_(1998)\n/wiki/Christmas_with_the_Addams_Family_(The_Addams_Family)\n/wiki/Christmas_with_the_Addams_Family_(The_New_Addams_Family)\n/wiki/Christmas_with_the_Andersons\n/wiki/Christmas_with_the_Brady_Bunch\n/wiki/Christmas_with_the_Chipmunks\n/wiki/Christmas_with_the_Chipmunks,_Vol._2\n/wiki/Christmas_with_the_Coopers\n/wiki/Christmas_with_the_Kranks\n/wiki/Christmas_with_the_Mormon_Tabernacle_Choir\n/wiki/Christmastime_Is_Killing_Us\n/wiki/Christmastime_in_the_City\n/wiki/Christmastime_with_Mister_Rogers\n/wiki/Christmess_Eve\n/wiki/Christopher_Robin\n/wiki/Christopher_the_Christmas_Tree\n/wiki/Chuck_Jones\n/wiki/Chuck_vs._The_Crown_Vic\n/wiki/Chuck_vs._The_Santa_Claus\n/wiki/Chuckie_Finster\n/wiki/Chum_Chum\n/wiki/Cinar\n/wiki/Cinderella\n/wiki/Cinderella_(character)\n/wiki/Cindy\n/wiki/Cindy-Lou_Who\n/wiki/Cindy_Bear\n/wiki/Cindy_Kelley\n/wiki/Cindy_Lou_Who\n/wiki/Cindy_Vortex\n/wiki/Cinnamon\n/wiki/City_of_Mercy\n/wiki/Clair%27s_Place\n/wiki/Clam\n/wiki/Clan_TVE\n/wiki/Clara%27s_Ultimate_Christmas\n/wiki/Clara_Copperfield\n/wiki/Clara_Peggotty\n/wiki/Clara_Stahlbaum\n/wiki/Clarabel\n/wiki/Clarabelle%27s_Christmas_List\n/wiki/Clarabelle_Cow\n/wiki/Clarice\n/wiki/Clarice%27s_father\n/wiki/Clark_Kent\n/wiki/Classic_Media\n/wiki/Classy_Christmas\n/wiki/Classy_Christmas_(The_Office)\n/wiki/Claude%27s_15_Minutes_of_Christmas\n/wiki/Claus_Out,_Unicorn!\n/wiki/Claus_and_Effect\n/wiki/Clean_Up_Your_Act\n/wiki/Cleopatra\n/wiki/Cleveland_Brown\n/wiki/Cleveland_Brown_Jr.\n/wiki/Cleveland_Junior\n/wiki/Clewn%27t\n/wiki/Click,_Clack,_Moo:_Christmas_at_the_Farm\n/wiki/Cliff_Edwards\n/wiki/Clockwise_in_Back_Hole_Until_Tight\n/wiki/Clumsy_Smurf\n/wiki/Clyde_McBride\n/wiki/Coach_Gills\n/wiki/Cobra_Claws_Are_Coming_to_Town\n/wiki/Coco\n/wiki/Cogsworth\n/wiki/Cold_Turkey\n/wiki/Cold_in_Cleveland\n/wiki/Cole_%26_Elena_M%C3%A1rquez\n/wiki/Colin\n/wiki/Colin_the_Crane\n/wiki/Colonel_Mustard\n/wiki/Colorful_Winter_Vacation\n/wiki/Colt\n/wiki/Colts\n/wiki/Come_All_Ye_Faithful\n/wiki/Come_Dance_With_Me\n/wiki/Come_Dance_with_Me\n/wiki/Comedy_Central%27s_All-Star_Non-Denominational_Christmas_Special\n/wiki/Comet\n/wiki/Comet_the_Coach\n/wiki/Comfort_%26_Joy\n/wiki/Comfort_and_Joy\n/wiki/Comfort_and_Joy_(Hotel)\n/wiki/Comfort_and_Joy_(Justice_League)\n/wiki/Comfort_and_joy\n/wiki/Comic_Book_Guy\n/wiki/Comin%27_Up_Christmas_Time\n/wiki/Coming_Home_for_Christmas\n/wiki/Coming_Up_Christmastime\n/wiki/Commander_Peepers\n/wiki/Commander_of_the_Wind_Demons\n/wiki/Commissioner_Gordon\n/wiki/Comparative_Religion\n/wiki/Compassion\n/wiki/Compliments_of_the_Season\n/wiki/Coniferous\n/wiki/Connor\n/wiki/Cookie_Monster\n/wiki/Cookies_for_Santa\n/wiki/Cool,_Cruel_Christmas_Caper\n/wiki/Cool_Christmas\n/wiki/Cool_Yule\n/wiki/Coop_Burtonburger\n/wiki/Corey_Burton\n/wiki/Correcting_Christmas\n/wiki/Cosmic_Christmas\n/wiki/Cosmo_Cosma\n/wiki/Cosmo_and_Wanda\n/wiki/Count_Duckula-A_Christmas_Cracker\n/wiki/Count_Von_Count\n/wiki/Count_von_Count\n/wiki/Countdown_to_Christmas\n/wiki/Counting_Down_to_Christmas\n/wiki/Country_Christmas_Album\n/wiki/Cousin_Eddie\n/wiki/Cousin_Kyle_Christmas\n/wiki/Cousin_Mel\n/wiki/Cow\n/wiki/Cows\n/wiki/Crackers\n/wiki/Cranberry_Christmas\n/wiki/Crane\n/wiki/Cranky_Kong\n/wiki/Cranky_the_Crane\n/wiki/Crash_and_Eddie\n/wiki/Crazy_Love\n/wiki/Crazy_for_Christmas\n/wiki/Cree_Summer\n/wiki/Cretaceous_Conifers\n/wiki/Cricket_Crocket\n/wiki/Cricket_Crockett\n/wiki/Cricket_Green\n/wiki/Cricket_on_the_Hearth\n/wiki/Cricket_on_the_Hearth_(1967)\n/wiki/Cricket_on_the_Hearth_(song)\n/wiki/Criss_Cross\n/wiki/Crown_for_Christmas\n/wiki/Cruella_De_Vil\n/wiki/Crumpet_(The_Ultimate_Christmas_Present)\n/wiki/Crums\n/wiki/Crusty_the_Snowman\n/wiki/Crystal\n/wiki/Crystal%27s_Maids\n/wiki/Crystal%27s_Wing_Maidens\n/wiki/Crystal_(disambiguation)\n/wiki/Crystal_(snow_woman)\n/wiki/Cuddly_Christmas\n/wiki/Cupid\n/wiki/Cupid_(Fairly_OddParents)\n/wiki/Cupid_(Merry_Madagascar)\n/wiki/Cupid_(Reindeer)\n/wiki/Cupid_(disambiguation)\n/wiki/Cybernetic_Ghost_of_Christmas_Past_From_the_Future\n/wiki/Cybernetic_Ghost_of_Christmas_Past_from_the_Future\n/wiki/Cyborg\n/wiki/Cyclops\n/wiki/Cyrus\n/wiki/D.J._Fuller\n/wiki/D.W._Read\n/wiki/DHX_Media\n/wiki/DVD_availability_of_Christmas_television_specials\n/wiki/Da_Grinchy_Code_/_Duck\n/wiki/Daddy%27s_Home_2\n/wiki/Daddy_Pig\n/wiki/Daffy_Duck\n/wiki/Daggett_Beaver\n/wiki/Daisy\n/wiki/Daisy%27s_Perfect_Christmas\n/wiki/Daisy_(Thomas_%26_Friends)\n/wiki/Daisy_Duck\n/wiki/Daisy_the_Diesel_Railcar\n/wiki/Daizy_(Wow!_Wow!_Wubbzy!)\n/wiki/Dale\n/wiki/Dale_Wilson\n/wiki/Dan\n/wiki/Dan_Castellaneta\n/wiki/Dan_Colman\n/wiki/Dan_Haggerty\n/wiki/Dan_Russell\n/wiki/Dan_Vs._The_Mall_Santa\n/wiki/Dana\n/wiki/Dana_Snyder\n/wiki/Dana_Tabes\n/wiki/Dancer\n/wiki/Dancin%27\n/wiki/Dancing_in_the_Dark\n/wiki/Danger!!_The_Demonic_Christmas_Present\n/wiki/Danny\n/wiki/Danny_(disambigulation)\n/wiki/Danny_Fenton\n/wiki/Danny_Phantom\n/wiki/Danny_Tanner\n/wiki/Danville_for_Niceness\n/wiki/Daphne_Blake\n/wiki/Daran_Norris\n/wiki/Darci_Lynne\n/wiki/Darci_Lynne:_My_Hometown_Christmas\n/wiki/Darcy\n/wiki/Dark_Santa_Claus;_Ah,_Transformtion_Impossible\n/wiki/Darkwing_Duck\n/wiki/Darkwing_Duck_(character)\n/wiki/Darrell_and_Shannon\n/wiki/Dart\n/wiki/Dart_(Christmas_is_Here_Again)\n/wiki/Dart_(Thomas_and_Friends)\n/wiki/Dart_(disambiguation)\n/wiki/Darwin\n/wiki/Darwin_(disambiguation)\n/wiki/Darwin_Thornberry\n/wiki/Darwin_Watterson\n/wiki/Daryl_Sabara\n/wiki/Dasher\n/wiki/Dashing_Through_the_Snow\n/wiki/Dashing_Through_the_Snow_(Fireman_Sam)\n/wiki/Dashing_Thru_the_Snow\n/wiki/Dates\n/wiki/Dave\n/wiki/Dave_(Ruff-Ruff,Tweet_and_Dave)\n/wiki/Dave_(The_Star)\n/wiki/Dave_(disambiguation)\n/wiki/Dave_Goelz\n/wiki/Dave_Wittenberg\n/wiki/David\n/wiki/David_(Be_Cool,_Scooby-Doo!)\n/wiki/David_Copperfield_(1993)\n/wiki/David_Copperfield_(character)\n/wiki/David_Hyde_Pierce\n/wiki/David_Leaf\n/wiki/Daws_Butler\n/wiki/Day_of_Infamy\n/wiki/Dear_Consumer\n/wiki/Dear_Dad\n/wiki/Dear_Santa\n/wiki/Dear_Santa,_I_Need_a_Date\n/wiki/Dear_Santa_(2011)\n/wiki/Dear_Santa_(song)\n/wiki/Dear_Secret_Santa\n/wiki/Dear_Sis\n/wiki/Death_Takes_a_Holiday\n/wiki/Deathcember\n/wiki/Debbie_Macomber%27s_Call_Me_Mrs._Miracle\n/wiki/Debbie_Macomber%27s_Mrs._Miracle\n/wiki/Debbie_Macomber%27s_Trading_Christmas\n/wiki/Debbie_Thornberry\n/wiki/Deborah\n/wiki/December_the_25th\n/wiki/Deck_The_Halls_(Dobie_Gillis)\n/wiki/Deck_the_Halls\n/wiki/Deck_the_Halls_(2005_film)\n/wiki/Deck_the_Halls_(2006_film)\n/wiki/Deck_the_Halls_(2011)\n/wiki/Deck_the_Halls_(The_Fresh_Prince_of_Bel-Air)\n/wiki/Deck_the_Halls_(The_Puzzle_Place)\n/wiki/Deck_the_Halls_(alternate_versions)\n/wiki/Deck_the_Halls_(disambiguation)\n/wiki/Deck_the_Halls_(film)\n/wiki/Deck_the_Halls_(song)\n/wiki/Deck_the_Halls_with_Wacky_Walls\n/wiki/Deck_the_Hooves_/_A_Buford_Carol\n/wiki/Deck_the_Mall\n/wiki/Deck_the_Malls\n/wiki/Deck_the_Malls_(Family_Matters)\n/wiki/Deck_the_Rooftop\n/wiki/Decorate_The_Tree\n/wiki/Decorate_the_Tree\n/wiki/Decorations\n/wiki/Ded_Moroz\n/wiki/Dee_Bradley_Baker\n/wiki/Dee_Dee\n/wiki/Defending_Santa\n/wiki/Delibird%27s_Dilemma\n/wiki/Delightful_Children_From_Down_The_Lane\n/wiki/Delightful_Children_From_Down_the_Lane\n/wiki/Delightful_Children_from_Down_the_Lane\n/wiki/Delivering_Christmas\n/wiki/Della_Duck\n/wiki/Delphi\n/wiki/Dementor\n/wiki/Demon_Team\n/wiki/Den\n/wiki/Den_t%C3%A4nkande_brevb%C3%A4raren\n/wiki/Denzel_Crocker\n/wiki/Deridoris\n/wiki/Dermie\n/wiki/Derrick\n/wiki/Desperately_Seeking_Santa\n/wiki/Destron%27s_Christmas_Present\n/wiki/Det_blir_jul_p%C3%A5_M%C3%B6lleg%C3%A5rden\n/wiki/Det_sn%C3%B6ar_i_Indianien\n/wiki/Dethmas\n/wiki/Dewey\n/wiki/Dewey_Largo\n/wiki/Dexter\n/wiki/Dexter_Vs._Santa%27s_Claws\n/wiki/Dexter_Vs._Santa_Claws\n/wiki/DiC_Entertainment\n/wiki/Diamonds_Are_for_Heather\n/wiki/Diary_of_a_Wimpy_Kid:_Cabin_Fever\n/wiki/Dib\n/wiki/Dib_Membrane\n/wiki/Dick_Daring%27s_All-Star_Holiday_Stunt_Spectacular_5\n/wiki/Dick_Daring%27s_All-Star_Holiday_Stunt_Spectacular_V\n/wiki/Dick_Miller\n/wiki/Dickens\n/wiki/Dickens_of_a_Christmas\n/wiki/Dickens_of_a_Christmas_(Back_to_the_Future)\n/wiki/Diddy_Kong\n/wiki/Didi_Pickles\n/wiki/Die_Hard\n/wiki/Die_Hard_2\n/wiki/Die_Semi-Hard\n/wiki/Diego\n/wiki/Diego_M%C3%A1rquez\n/wiki/Diego_Saves_Christmas\n/wiki/Diego_Saves_Christmas!\n/wiki/Diesel\n/wiki/Diesel%27s_Ghostly_Christmas\n/wiki/Diesel_10\n/wiki/Yippee_Ki_Yay_Melon_Farmer\n/wiki/Yippie_Kayak\n/wiki/Yo_Ho_Holiday\n/wiki/Yogi%27s_First_Christmas\n/wiki/Yogi_Bear\n/wiki/Yogi_Bear%27s_All-Star_Comedy_Christmas_Caper\n/wiki/Yogi_Bear%E2%80%99s_All-Star_Comedy_Christmas_Caper\n/wiki/Yogi%E2%80%99s_First_Christmas\n/wiki/Yona\n/wiki/Yosemite_Sam\n/wiki/Yoshi\n/wiki/You%27ll_Always_Be_With_Me_for_Christmas\n/wiki/You%27re_a_Good_Man,_Mojo_Jojo\n/wiki/You%27re_a_Mean_One,_Mr._Grinch\n/wiki/You%27ve_Got_Me_Honey\n/wiki/You...You\n/wiki/You..._You\n/wiki/YouTube\n/wiki/You_..._You\n/wiki/You_Are_Everything_I_Always_Wanted\n/wiki/You_Better_Watch_Out\n/wiki/You_Better_Watch_Out_(Girlfriends)\n/wiki/You_Better_Watch_Out_(Married_With_Children)\n/wiki/You_Better_Watch_Out_(NCIS)\n/wiki/You_Can%27t_Fight_Christmas\n/wiki/You_Can_Always_Count_on_Santa_Claus\n/wiki/You_Can_Never_Find_an_Elf_When_You_Need_One\n/wiki/You_Gotta_Just_Believe\n/wiki/You_Have_the_Power\n/wiki/You_Just_Gotta_Love_Christmas\n/wiki/You_Light_Up_My_Christmas\n/wiki/You_Make_It_Feel_Like_Christmas\n/wiki/You_Sleigh_Me!\n/wiki/You_Wear_a_Chain\n/wiki/You_Were_Loved\n/wiki/You_Win_Some,_You_Lose_Some\n/wiki/Young_%26_Christmas\n/wiki/Young_Six\n/wiki/Your_Christmas_Show_of_Shows\n/wiki/You%E2%80%99re_a_Good_Man,_Mojo_Jojo\n/wiki/Yukon_Cornelius\n/wiki/Yule_Be_Sorry\n/wiki/Yule_Be_Sorry_(Joe%27s_Life)\n/wiki/Yule_Be_Sorry_(Pinky,_Elmyra_and_the_Brain)\n/wiki/Yule_Be_Wiggling\n/wiki/Yule_Be_Wiggling_(song)\n/wiki/Yule_Better_Watch_Out\n/wiki/Yule_Get_Yours\n/wiki/Yule_Laff\n/wiki/Yule_Log\n/wiki/Yule_Never_Know\n/wiki/Yule_Only_Watch_Twice\n/wiki/Yuletide_Fortune_Tellers\n/wiki/Yuletide_and_Redtide\n/wiki/Zach\n/wiki/Zachary\n/wiki/Zachary_Bostrom\n/wiki/Zachary_Gordon\n/wiki/Zack_Underwood\n/wiki/Zat_You_Santa_Claus%3F\n/wiki/Zeki_Firildak\n/wiki/Zeng\n/wiki/Ziad_LeFlore\n/wiki/Ziggy%27s_Gift\n/wiki/Zim\n/wiki/Zoe\n/wiki/Zoey\n/wiki/Zoey%27s_father\n/wiki/Zoey%27s_mother\n/wiki/Zowie_Polie\n/wiki/Zuma\n/wiki/%D0%98%D0%BD%D1%82%D0%B5%D1%80%D0%B5%D1%81%D0%BD%D0%BE_%D0%B1%D1%8B%D0%BB%D0%BE_%D0%BF%D0%BE%D1%87%D0%B8%D1%82%D0%B0%D1%82%D1%8C._%D0%A2%D0%B0%D1%82%D0%B0%D1%80%D1%81%D1%82%D0%B0%D0%BD\n/wiki/%D0%9A%D1%80%D0%B5%D0%B4%D0%B8%D1%82%D0%BD%D1%8B%D0%B5_%D0%BA%D0%B0%D1%80%D1%82%D1%8B_%D1%81_%D0%BF%D0%B8%D0%BD_%D0%BA%D0%BE%D0%B4%D0%BE%D0%BC\n/wiki/%D0%9D%D0%B5%D0%BE%D0%B1%D1%8B%D1%87%D0%BD%D1%8B%D0%B9_%D0%B8%D0%BD%D1%82%D0%B5%D1%80%D0%BD%D0%B5%D1%82-%D0%BC%D0%B0%D0%B3%D0%B0%D0%B7%D0%B8%D0%BD\n/wiki/%D0%A0%D0%B0%D1%81%D1%81%D1%8B%D0%BB%D0%BA%D0%B0_%D1%80%D0%B5%D0%BA%D0%BB%D0%B0%D0%BC%D1%8B_%D0%BD%D0%B0_%D1%84%D0%BE%D1%80%D1%83%D0%BC%D1%8B,_%D0%BA%D0%B0%D1%82%D0%B0%D0%BB%D0%BE%D0%B3%D0%B8,_%D0%B4%D0%BE%D1%81%D0%BA%D0%B8,_%D1%82%D0%B5%D0%BC%D0%B0%D1%82%D0%B8%D1%87%D0%B5%D1%81%D0%BA%D0%B8%D0%B5_%D1%80%D0%B5%D1%81%D1%83%D1%80%D1%81%D1%8B\n/wiki/%D0%A6%D0%B5%D0%BD%D1%82%D1%80_renault_space,_%D0%B4%D0%BE%D1%81%D1%82%D1%83%D0%BF%D0%BD%D1%8B%D0%B5_%D1%86%D0%B5%D0%BD%D1%8B\n/wiki/%E2%80%98Twas_the_Night\n✔ Processing chunks ===> Done\n"
    },
    {
     "data": {
      "text/plain": "<halo.halo.Halo at 0x1092c4fa0>"
     },
     "execution_count": 51,
     "metadata": {},
     "output_type": "execute_result"
    }
   ],
   "source": [
    "spinner.text = f'Processing chunks: {chunks_done}/{chunks_left}'\n",
    "\n",
    "'''Process the chunks'''\n",
    "while len(chunks) > 0:\n",
    "    current_link = chunks.pop()\n",
    "    soup = get_soup(url + current_link)\n",
    "    current_table = soup.find('table', \n",
    "    {'class': ['allpageslist', 'mw-allpages-table-chunk']})\n",
    "    if 'allpageslist' in current_table.get('class'):\n",
    "        child_chunks = get_links(current_table)\n",
    "        chunks = chunks.union(child_chunks)\n",
    "        chunks_left += len(child_chunks)\n",
    "    if 'mw-allpages-table-chunk' in current_table.get('class'):\n",
    "        for child in current_table.children:\n",
    "            if isinstance(child, NavigableString):\n",
    "                continue\n",
    "            else:\n",
    "                for link in child.find_all('a', href=True):\n",
    "                    article_link = link['href']\n",
    "                    print(article_link)\n",
    "                    article_contents = get_soup(url + article).find(class=\"WikiaMainContentContainer\")\n",
    "                    article = article_link.split('/')[-1]\n",
    "                    articles.add((article, article.replace('_', ' ')))\n",
    "      \n",
    "    chunks_done += 1\n",
    "    spinner.text = f'Processing chunks: {chunks_done}/{chunks_left}'\n",
    "\n",
    "spinner.succeed(text='Processing chunks ===> Done')"
   ]
  },
  {
   "cell_type": "code",
   "execution_count": 49,
   "metadata": {},
   "outputs": [
    {
     "data": {
      "text/plain": "8684"
     },
     "execution_count": 49,
     "metadata": {},
     "output_type": "execute_result"
    },
    {
     "name": "stdout",
     "output_type": "stream",
     "text": ""
    }
   ],
   "source": [
    "len(articles)"
   ]
  },
  {
   "cell_type": "code",
   "execution_count": 44,
   "metadata": {},
   "outputs": [
    {
     "name": "stdout",
     "output_type": "stream",
     "text": "⠋ Printing 8684 articles⠙ Printing 8684 articles"
    },
    {
     "ename": "OSError",
     "evalue": "[Errno 63] File name too long: '%D0%A0%D0%B0%D1%81%D1%81%D1%8B%D0%BB%D0%BA%D0%B0 %D1%80%D0%B5%D0%BA%D0%BB%D0%B0%D0%BC%D1%8B %D0%BD%D0%B0 %D1%84%D0%BE%D1%80%D1%83%D0%BC%D1%8B, %D0%BA%D0%B0%D1%82%D0%B0%D0%BB%D0%BE%D0%B3%D0%B8, %D0%B4%D0%BE%D1%81%D0%BA%D0%B8, %D1%82%D0%B5%D0%BC%D0%B0%D1%82%D0%B8%D1%87%D0%B5%D1%81%D0%BA%D0%B8%D0%B5 %D1%80%D0%B5%D1%81%D1%83%D1%80%D1%81%D1%8B.txt'",
     "output_type": "error",
     "traceback": [
      "\u001b[0;31m---------------------------------------------------------------------------\u001b[0m",
      "\u001b[0;31mOSError\u001b[0m                                   Traceback (most recent call last)",
      "\u001b[0;32m<ipython-input-44-7cfa055457fb>\u001b[0m in \u001b[0;36m<module>\u001b[0;34m\u001b[0m\n\u001b[1;32m      3\u001b[0m \u001b[0;34m\u001b[0m\u001b[0m\n\u001b[1;32m      4\u001b[0m \u001b[0;32mfor\u001b[0m \u001b[0marticle\u001b[0m \u001b[0;32min\u001b[0m \u001b[0msorted\u001b[0m\u001b[0;34m(\u001b[0m\u001b[0marticles\u001b[0m\u001b[0;34m)\u001b[0m\u001b[0;34m:\u001b[0m\u001b[0;34m\u001b[0m\u001b[0;34m\u001b[0m\u001b[0m\n\u001b[0;32m----> 5\u001b[0;31m     \u001b[0;32mwith\u001b[0m \u001b[0mopen\u001b[0m\u001b[0;34m(\u001b[0m\u001b[0;34mf'{article}.txt'\u001b[0m\u001b[0;34m,\u001b[0m \u001b[0;34m'w'\u001b[0m\u001b[0;34m)\u001b[0m \u001b[0;32mas\u001b[0m \u001b[0moutfile\u001b[0m\u001b[0;34m:\u001b[0m\u001b[0;34m\u001b[0m\u001b[0;34m\u001b[0m\u001b[0m\n\u001b[0m\u001b[1;32m      6\u001b[0m         \u001b[0moutfile\u001b[0m\u001b[0;34m.\u001b[0m\u001b[0mwrite\u001b[0m\u001b[0;34m(\u001b[0m\u001b[0marticle\u001b[0m\u001b[0;34m)\u001b[0m\u001b[0;34m\u001b[0m\u001b[0;34m\u001b[0m\u001b[0m\n\u001b[1;32m      7\u001b[0m         \u001b[0moutfile\u001b[0m\u001b[0;34m.\u001b[0m\u001b[0mwrite\u001b[0m\u001b[0;34m(\u001b[0m\u001b[0;34m'\\n'\u001b[0m\u001b[0;34m)\u001b[0m\u001b[0;34m\u001b[0m\u001b[0;34m\u001b[0m\u001b[0m\n",
      "\u001b[0;31mOSError\u001b[0m: [Errno 63] File name too long: '%D0%A0%D0%B0%D1%81%D1%81%D1%8B%D0%BB%D0%BA%D0%B0 %D1%80%D0%B5%D0%BA%D0%BB%D0%B0%D0%BC%D1%8B %D0%BD%D0%B0 %D1%84%D0%BE%D1%80%D1%83%D0%BC%D1%8B, %D0%BA%D0%B0%D1%82%D0%B0%D0%BB%D0%BE%D0%B3%D0%B8, %D0%B4%D0%BE%D1%81%D0%BA%D0%B8, %D1%82%D0%B5%D0%BC%D0%B0%D1%82%D0%B8%D1%87%D0%B5%D1%81%D0%BA%D0%B8%D0%B5 %D1%80%D0%B5%D1%81%D1%83%D1%80%D1%81%D1%8B.txt'"
     ]
    }
   ],
   "source": [
    "spinner = Halo(text=f'Printing {len(articles)} articles')\n",
    "spinner.start()\n",
    "\n",
    "for article in sorted(articles):\n",
    "    with open(f'{article}.txt', 'w') as outfile:\n",
    "        outfile.write(article)\n",
    "        outfile.write('\\n')\n",
    "\n",
    "spinner.succeed(text=f'Printing {len(articles)} articles. ===> Done')"
   ]
  },
  {
   "cell_type": "code",
   "execution_count": null,
   "metadata": {},
   "outputs": [],
   "source": []
  }
 ]
}