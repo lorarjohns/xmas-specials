{
 "nbformat": 4,
 "nbformat_minor": 2,
 "metadata": {
  "language_info": {
   "name": "python",
   "codemirror_mode": {
    "name": "ipython",
    "version": 3
   },
   "version": "3.8.0"
  },
  "orig_nbformat": 2,
  "file_extension": ".py",
  "mimetype": "text/x-python",
  "name": "python",
  "npconvert_exporter": "python",
  "pygments_lexer": "ipython3",
  "version": 3
 },
 "cells": [
  {
   "cell_type": "code",
   "execution_count": 73,
   "metadata": {},
   "outputs": [
    {
     "name": "stdout",
     "output_type": "stream",
     "text": ""
    }
   ],
   "source": [
    "import requests\n",
    "from collections import namedtuple\n",
    "# import validators\n",
    "from bs4 import BeautifulSoup, NavigableString\n",
    "from halo import Halo\n",
    "def get_soup(url):\n",
    "    '''\n",
    "    Returns a BeautifulSoup version of a web page.\n",
    "    '''\n",
    "    response = requests.get(url)\n",
    "    content = response.text\n",
    "    return BeautifulSoup(content)\n",
    "\n",
    "def get_links(table):\n",
    "    '''\n",
    "    Retrieves links from an embedded tabular structure.\n",
    "    '''\n",
    "    links = set()\n",
    "    for child in table.children:\n",
    "        for link in child.find_all('a', href=True):\n",
    "            links.add(link['href'])\n",
    "\n",
    "    return links"
   ]
  },
  {
   "cell_type": "code",
   "execution_count": 50,
   "metadata": {},
   "outputs": [
    {
     "name": "stdout",
     "output_type": "stream",
     "text": "⠋ Fetching article list . . .⠙ Fetching article list . . .⠹ Fetching article list . . .⠸ Fetching article list . . .⠼ Fetching article list . . .⠴ Fetching article list . . .✔ Fetching list ===> Done\n⠙ Processing articles . . ."
    }
   ],
   "source": [
    "url = 'http://christmas-specials.wikia.com/'\n",
    "    #data='xmas'\n",
    "    # if not validators.url(url):\n",
    "    #     print('Invalid URL')\n",
    "    # path = pathlib.Path(data)\n",
    "\n",
    "spinner = Halo(text='Fetching article list . . .')\n",
    "spinner.start()\n",
    "    \n",
    "soup = get_soup(url + '/wiki/Special:AllPages')\n",
    "spinner.succeed(text='Fetching list ===> Done')\n",
    "\n",
    "'''Process the articles'''\n",
    "\n",
    "articles = set()\n",
    "\n",
    "spinner = Halo(text='Processing articles . . .')\n",
    "spinner.start()\n",
    "\n",
    "table_chunks = soup.find('table', \n",
    "        {'class': ['allpageslist', 'mw-allpages-table-chunk']})\n",
    "    \n",
    "chunks = set(get_links(table_chunks))\n",
    "\n",
    "chunks_done = 0\n",
    "chunks_left = len(chunks)"
   ]
  },
  {
   "cell_type": "code",
   "execution_count": 105,
   "metadata": {},
   "outputs": [
    {
     "name": "stdout",
     "output_type": "stream",
     "text": ""
    }
   ],
   "source": [
    "# proof of concept\n",
    "\n",
    "article = '/wiki/Mr._Monk_and_the_Man_Who_Shot_Santa_Claus'\n",
    "\n",
    "def get_article_data(article, url='http://christmas-specials.wikia.com/'):\n",
    "    Article = namedtuple('Article', 'title contents categories')\n",
    "    article_soup = get_soup(url + article)\n",
    "    article_title = article_soup.find('h1').contents\n",
    "    article_contents = article_soup.find_all('div', {'class': ['mw-content-ltr', 'mw-content-text', 'mw-collapsible', 'mw-made-collapsible']})\n",
    "    article_categories = [li['data-name'] for li in article_soup.find_all('li', {'class': 'category normal', 'data-type': 'normal'})]\n",
    "    article = Article(title=article_title, contents=article_contents, categories=article_categories)\n",
    "    return article\n",
    "\n",
    "monk = get_article_data(article)"
   ]
  },
  {
   "cell_type": "code",
   "execution_count": 114,
   "metadata": {},
   "outputs": [
    {
     "data": {
      "text/plain": "/tr></table>\n <p>\"<b>Mr. Monk and the Man Who Shot Santa Claus</b>\" is the third <a href=\"/wiki/Christmas\" title=\"Christmas\">Christmas</a> episode of the USA Network original series <i><a class=\"extiw\" href=\"http://en.wikipedia.org/wiki/Monk_(TV_series)\" title=\"wikipedia:Monk (TV series)\">Monk</a></i>, produced and aired as the tenth episode of the its sixth season.\n </p>\n <h2><span class=\"mw-headline\" id=\"Synopsis\">Synopsis</span></h2>\n <table border=\"0\" cellpadding=\"3\" cellspacing=\"3\" style=\"margin: 0 auto; border: 1px solid darkred; background-color: #dc4f4f; color:white;\">\n <tr>\n <td> <center><i><b>SPOILER:</b></i> <i>Plot details or story follow.</i></center>\n </td></tr></table>\n <p>Another Christmas shopping season, which fills Adrian Monk's heart with dread. <a class=\"extiw\" href=\"http://en.wikipedia.org/wiki/Natalie_Teeger\" title=\"wikipedia:Natalie Teeger\">Natalie Teeger</a> is fighting a Christmastime traffic jam in San Francisco to get Monk to his appointment with <a class=\"extiw\" href=\"http://en.wikipedia.org/wiki/Charles_Kroger\" title=\"wikipedia:Charles Kroger\">Dr. Kroger</a>, while her daughter <a class=\"extiw\" href=\"http://en.wikipedia.org/wiki/Julie_Teeger\" title=\"wikipedia:Julie Teeger\">Julie</a> is sitting in the back seat. Julie notices that they're outside of the MacMillan Museum, which is housing a diamond, named the <a class=\"extiw\" href=\"http://en.wikipedia.org/wiki/Star_of_Bethlehem\" title=\"wikipedia:Star of Bethlehem\">Star of Bethlehem</a>, and Monk complains about how much he hates missing his sessions, because it takes him three to four more sessions just to get over the stress. He is also grousing about how much he hates Christmas (as Natalie confides to Julie, <a class=\"extiw\" href=\"http://en.wikipedia.org/wiki/Trudy_Monk\" title=\"wikipedia:Trudy Monk\">Trudy</a> died ten years ago that December, or to be more precise, 10 years and 5 days ago). Suddenly, traffic comes to a dead stop when a former parole officer named Michael Kenworthy, dressed in a <a href=\"/wiki/Santa_Claus\" title=\"Santa Claus\">Santa Claus</a> outfit starts showering toys on the street from a roof, shouting \"Merry Christmas.\" Furious that Kenworthy is disrupting traffic, Monk heads up, alone, and a few minutes later, Natalie and Julie are alarmed to hear two gunshots. They run up to the roof and see Monk, holding a gun, standing over Kenworthy, who has been shot twice in his right arm.\n </p><p>As Kenworthy is carried on a stretcher to a waiting ambulance, he fingers Monk in the shooting, which infuriates the crowd. <a class=\"extiw\" href=\"http://en.wikipedia.org/wiki/Leland_Stottlemeyer\" title=\"wikipedia:Leland Stottlemeyer\">Captain Stottlemeyer</a> and <a class=\"extiw\" href=\"http://en.wikipedia.org/wiki/Randy_Disher\" title=\"wikipedia:Randy Disher\">Lieutenant Disher</a> place Monk under arrest, however it's actually staged and for protective custory. The situation is made worse by sensationalist news reporter Brandy Barber (<a class=\"extiw\" href=\"http://en.wikipedia.org/wiki/Gina_Philips\" title=\"wikipedia:Gina Philips\">Gina Philips</a>) and her cameraman who seize on the story, broadcasting Monk as \"The Man Who Shot Santa Claus.\"\n </p><p>At the police station, Monk give his version of the events to Stottlemeyer, Disher, and Garrett Price, his lawyer. Monk says that he went up to confront Kenworthy about his activities, but was about to give up and head downstairs when all of a sudden, a gun fell out of Kenworthy's pocket. He started asking Kenworthy questions about the weapon, and is attacked by him. During the fight Monk grabbed Kenworthy's gun, and just as Kenworthy was about to swing a pipe at him, Monk shoots him in self-defense.\n </p>\n <figure class=\"article-thumb tright show-info-icon\" style=\"width: 250px\"> <a class=\"image image-thumbnail\" href=\"https://vignette.wikia.nocookie.net/christmasspecials/images/5/5a/Monk_vs_Santa_Claus_Flashback.JPG/revision/latest?cb=20120218033049\"><img alt=\"Monk vs Santa Claus Flashback\" class=\"thumbimage lzy lzyPlcHld\" data-image-key=\"Monk_vs_Santa_Claus_Flashback.JPG\" data-image-name=\"Monk vs Santa Claus Flashback.JPG\" data-src=\"https://vignette.wikia.nocookie.net/christmasspecials/images/5/5a/Monk_vs_Santa_Claus_Flashback.JPG/revision/latest/scale-to-width-down/250?cb=20120218033049\" height=\"141\" onload=\"if(typeof ImgLzy==='object'){ImgLzy.load(this)}\" src=\"data:image/gif;base64,R0lGODlhAQABAIABAAAAAP///yH5BAEAAAEALAAAAAABAAEAQAICTAEAOw%3D%3D\" width=\"250\"/><noscript><img alt=\"Monk vs Santa Claus Flashback\" class=\"thumbimage\" data-image-key=\"Monk_vs_Santa_Claus_Flashback.JPG\" data-image-name=\"Monk vs Santa Claus Flashback.JPG\" height=\"141\" src=\"https://vignette.wikia.nocookie.net/christmasspecials/images/5/5a/Monk_vs_Santa_Claus_Flashback.JPG/revision/latest/scale-to-width-down/250?cb=20120218033049\" width=\"250\"/></noscript></a> <figcaption> <a class=\"sprite info-icon\" href=\"/wiki/File:Monk_vs_Santa_Claus_Flashback.JPG\"></a> <p class=\"caption\">Adrian Monk tells the San Francisco Police what really happened when he met a man in a Santa suit before shooting him.</p> </figcaption> </figure>\n <p>Despite these facts, the misperception of Monk as being a modern <a href=\"/wiki/Ebenezer_Scrooge\" title=\"Ebenezer Scrooge\">Ebenezer Scrooge</a> reaches large numbers of people. Monk quickly figures this out when he and Natalie are suddenly getting harassed everywhere they go. When they go to a store and Monk is fussing over gift wrapping, a crowd surrounds him. Natalie has to grab Monk and they head out via a back way, though Monk ends up knocking over a number of store cardboard cutouts in the process. Monk decides to \"take the offensive,\" and accept Brandy's offer to go on TV and tell his side of the story. Natalie warns him not to, as Brandy will manipulate his words and he will come out looking worse than ever, but he remains confident that \"truth is on his side\". During the interview, which takes place in a dressed up version of Monk's apartment, Natalie begs Brandy to be merciful, but Brandy - in her sweet, saccharine way - smells blood in the water. After a few innocuous questions, she produces the ivory piece that was dug up from his yard. and compares it to the photo of the gun. Monk denies burying the gun in the park, but admits that he recognizes the gun he shot Santa with. Then, an exasperated Monk inadvertently fulfills Brandy's wildest fantasies by looking straight into the camera and saying, \"I did not shoot Santa Claus. That man was not Santa Claus... there's no such thing as Santa Claus\" -- On citywide television, with families and hundreds of small children watching.\n </p><p>Acting on the suspicion that Monk might have stumbled upon something more than a simple toy giveaway, Stottlemeyer and Disher go to Kenworthy's apartment to question him. When asked about what he was doing on the roof when Monk shot him, Kenworthy just shrugs and claims that he loves Christmas and wanted to give away some toys. Stottlemeyer, however, is not convinced by this story, and notes that they've checked Kenworthy's phone records, and have discovered that he has been regularly contacted for the past few weeks by several of the ex-cons who were under his supervision before he retired. Kenworthy defends them, claiming that he likes simply keeping in touch with them, but Stottlemeyer notes that these \"good guys\" are as hardened a crew of thieves and grifters as have even been guests of the state prisoners, who have been charged with crimes like grand theft auto, burglary, attempted murder, etc. Kenworthy insists that the Lieutenant has no evidence of his accusations, and he kicks him out. With a predatory smile, Stottlemeyer let's him know in no uncertain terms that he's not entirely convinced of his innocence.\n </p><p>That night, Alice DuBois an employee at the MacMillan Museum is walking home from work and passes Kenworthy, who is out on the street posing as a sidewalk Santa with a coin deposit box, and ringing a bell. As DuBois is entering her building, Thorne, one of Kenworthy's knife-wielding ex-cons attacks her. She fends off Thorne by attacking him with pepper spray. Kenworthy, seeing his ex-con attacking the victim, seems to be coming to the rescue. Dubois thanks Kenworthy and tells him what the man tried to do, but he turns on her, bludgeoning the luckless old lady to death with his bell. At the scene of the crime, Stottlemeyer, Disher, Monk, and Teeger investigate the scene, but a crowd notices Monk and harasses him and the rest of the SFPD. Stottlemeyer confronts the crowd and chases Monk and Teeger out of the way. Still examining the crime, Monk notices debris such as broken candy canes, cigarette butts, and that Ms. DuBois was struck by somebody who was left handed and used a large brass bell. He is still convinced that all the evidence proves that Kenworthy as the killer, but Natalie assumes he's merely obsessivley fixating on him.\n </p><p>In a session with Dr. Kroger, Monk talks about how Christmas has always been one of the most miserable times of his life, the exception being his years with Trudy. She loved Christmas, and always made Monk see the positive side of it, whereas his childhood Christmases were always bleak. When Dr. Kroger picks a random year from Monk's childhood (1964), Monk relates: their mother was sick, his brother Ambrose locked himself in the basement until the holiday was over, and his father gave him a single walkie-talkie as a gift - saying that Adrian only needed one, since he had no friends he needed to talk to. But mulling over this morose detail leads Adrian to remember something about the shooting, and he solves the case. He heads out of the office via the front door despite Dr. Kroger's warning not to do so, to be mobbed by another crowd, this time of traumatized children who are now patients of Kroger, thanks to Monk's ill-fated news interview.\n </p><p>Monk and Natalie return to the roof where the shooting took place. He explains that when he was remembering the single walkie-talkie, he suddenly remembered that when Lieutenant Disher was running an inventory of the items in Kenworthy's toy bag after the shooting, he logged in a single walkie-talkie. Natalie initially thinks it may have been a lookout, but Monk realizes it was a diversion because lookouts tend to be more subtle. He also notices that he spoiled Kenworthy's originally intended crime, which was to steal the Star of Bethlehem diamond, and that the attempted crime is about to happen again. Just then Brandy Barber is doing a news report on the museum exhibit revolving around the diamond. During the report, Kenworthy and his gang steal the diamond right out in the open. As the thieves hand Kenworthy the diamond, Monk spots him and demands that the police are called. He chases Kenworthy through the streets of San Francisco, with Ms. Barber and her cameraman close behind. In front of a group of children singing Chiristmas carols near a Christmas display in a park, Kenworthy tries to steal a morotcycle, but Monk stops him. Both fight it out in front of the children who continue to sing as if nothing is happening, until Kenworthy pulls out a knife and threatens to kill him for thwarting his earlier burglary plot. Fortunatley, Monk clobbers him with a huge plastic candy cane. Kenworthy and his gang are arrested on the spot and Brandy Barber suddenly changes her tune painting Monk as \"the man who saved Christmas.\" Natalie and Julie spend Christmas Eve at his apartment, and coax him to smile for a group photograph with them.\n </p>\n <table border=\"0\" cellpadding=\"3\" cellspacing=\"3\" style=\"margin: 0 auto; border: 1px solid darkred; background-color: #dc4f4f; color:white;\">\n <tr>\n <td> <center><i>Spoilers end here.</i></center>\n </td></tr></table>\n <h2><span class=\"mw-headline\" id=\"See_also\">See also</span></h2>\n <ul><li>\"<a href=\"/wiki/Mr._Monk_and_the_Secret_Santa\" title=\"Mr. Monk and the Secret Santa\">Mr. Monk and the Secret Santa</a>\"\n </li><li>\"<a href=\"/wiki/Mr._Monk_Meets_His_Dad\" title=\"Mr. Monk Meets His Dad\">Mr. Monk Meets His Dad</a>\"\n </li><li>\"<a href=\"/wiki/Mr._Monk_and_the_Miracle\" title=\"Mr. Monk and the Miracle\">Mr. Monk and the Miracle</a>\"\n </li></ul>\n <h2><span class=\"mw-headline\" id=\"External_links\">External links</span></h2>\n <ul><li><a class=\"external text\" href=\"http://www.imdb.com/title/tttt1111043/\" rel=\"nofollow\">\"Mr. Monk and the Man Who Shot Santa Claus\"</a> at the <a class=\"extiw\" href=\"http://en.wikipedia.org/wiki/Internet_Movie_Database\" title=\"wikipedia:Internet Movie Database\">Internet Movie Database</a>\n </li><li><a class=\"external text\" href=\"http://www.dailywav.com/program.php?Program=Monk\" rel=\"nofollow\">\"Mr. Monk and the Man Who Shot Santa Claus\"</a> at The Daily.WAV\n </li></ul>\n <table class=\"mw-collapsible mw-collapsed\" style=\"margin: 0 auto; width: 100%; border:2px solid #E4E4E4; text-align:center; font-size: 11px;\">\n <tr>\n <td colspan=\"2\" style=\"background-color: black; text-align: center;\"> <b><a href=\"/wiki/Category:Universal_Studios\" title=\"Category:Universal Studios\"><span style=\"font-size: 14px;\"><font style=\"color:#f3e5b6\">Universal Studios</font></span></a></b>\n </td></tr>\n <tr>\n <td style=\"background-color: black\"> <b><font style=\"color:#f3e5b6\">Movies</font></b>\n </td><td> <i><a href=\"/wiki/Merry_Christmas,_Mr._Lawrence\" title=\"Merry Christmas, Mr. Lawrence\">Merry Christmas, Mr. Lawrence</a></i> • <i><a href=\"/wiki/The_Munsters%27_Scary_Little_Christmas\" title=\"The Munsters' Scary Little Christmas\">The Munsters' Scary Little Christmas</a></i> • <a href=\"/wiki/How_the_Grinch_Stole_Christmas_(2000)\" title=\"How the Grinch Stole Christmas (2000)\"><i>How the Grinch Stole Christmas</i> (2000)</a> • <i><a href=\"/wiki/Love_Actually\" title=\"Love Actually\">Love Actually</a></i> • <i><a href=\"/wiki/The_Holiday\" title=\"The Holiday\">The Holiday</a></i> • <i><a href=\"/wiki/Krampus_(film)\" title=\"Krampus (film)\">Krampus</a></i> • <i><a href=\"/wiki/Almost_Christmas_(2016_film)\" title=\"Almost Christmas (2016 film)\">Almost Christmas</a></i> • <a href=\"/wiki/The_Grinch_(2018_movie)\" title=\"The Grinch (2018 movie)\"><i>The Grinch</i> (2018)</a> • <i><a href=\"/wiki/Last_Christmas_(film)\" title=\"Last Christmas (film)\">Last Christmas</a></i> • <a href=\"/wiki/Black_Christmas_(2019)\" title=\"Black Christmas (2019)\"><i>Black Christmas</i> (2019)</a>\n </td></tr>\n <tr>\n <td style=\"width: 10%; background-color: black\"> <b><font style=\"color:#f3e5b6\">Direct-to-video films</font></b>\n </td><td> <a href=\"/wiki/The_Life_and_Adventures_of_Santa_Claus_(2000)\" title=\"The Life and Adventures of Santa Claus (2000)\"><i>The Life and Adventures of Santa Claus</i></a> • <i><a href=\"/wiki/Barbie_in_a_Christmas_Carol\" title=\"Barbie in a Christmas Carol\">Barbie in a Christmas Carol</a></i> • <i><a href=\"/wiki/A_Very_Monkey_Christmas\" title=\"A Very Monkey Christmas\">A Very Monkey Christmas</a></i> • <i><a href=\"/wiki/Barbie:_A_Perfect_Christmas\" title=\"Barbie: A Perfect Christmas\">Barbie: A Perfect Christmas</a></i> • <i><a href=\"/wiki/Beethoven%27s_Christmas_Adventure\" title=\"Beethoven's Christmas Adventure\">Beethoven's Christmas Adventure</a></i> • <a href=\"/wiki/All_I_Want_for_Christmas_is_You_(2017_film)\" title=\"All I Want for Christmas is You (2017 film)\"><i>All I Want for Christmas is You</i></a> • <i><a href=\"/wiki/My_Adventures_with_Santa\" title=\"My Adventures with Santa\">My Adventures with Santa</a></i>\n </td></tr>\n <tr>\n <td style=\"background-color: black\"> <b><font style=\"color:#f3e5b6\">Live-action television episodes</font></b>\n </td><td> \"<a href=\"/wiki/The_Day_They_Captured_Santa_Claus\" title=\"The Day They Captured Santa Claus\">The Day They Captured Santa Claus</a>\" • \"<a href=\"/wiki/%27Twas_the_Fight_Before_Christmas..._(McCloud)\" title=\"'Twas the Fight Before Christmas... (McCloud)\">'Twas the Fight Before Christmas…</a>\" • \"<a href=\"/wiki/Christmas_Presence\" title=\"Christmas Presence\">Christmas Presence</a>\" • \"<a href=\"/wiki/Home_for_the_Holidays_(Charles_in_Charge)\" title=\"Home for the Holidays (Charles in Charge)\">Home for the Holidays</a>\" • \"<a href=\"/wiki/Yule_Laff\" title=\"Yule Laff\">Yule Laff</a>\" • \"<a href=\"/wiki/Christmas_Brains\" title=\"Christmas Brains\">Christmas Brains</a>\" • \"<a href=\"/wiki/Seoul_Mates\" title=\"Seoul Mates\">Seoul Mates</a>\" • \"<a href=\"/wiki/A_Christmas_Secret\" title=\"A Christmas Secret\">A Christmas Secret</a>\" • \"<a href=\"/wiki/Christmas_Party_(The_Office)\" title=\"Christmas Party (The Office)\">Christmas Party</a>\" • \"<a href=\"/wiki/Mr._Monk_and_the_Secret_Santa\" title=\"Mr. Monk and the Secret Santa\">Mr. Monk and the Secret Santa</a>\" • \"<a href=\"/wiki/A_Benihana_Christmas\" title=\"A Benihana Christmas\">A Benihana Christmas</a>\" • \"<a href=\"/wiki/Mr._Monk_Meets_His_Dad\" title=\"Mr. Monk Meets His Dad\">Mr. Monk Meets His Dad</a>\" • \"<a href=\"/wiki/Moroccan_Christmas\" title=\"Moroccan Christmas\">Moroccan Christmas</a>\" • \"<strong class=\"selflink\">Mr. Monk and the Man Who Shot Santa Claus</strong>\" • \"<a href=\"/wiki/Ludachristmas\" title=\"Ludachristmas\">Ludachristmas</a>\" • \"<a href=\"/wiki/Christmas_Special_(30_Rock)\" title=\"Christmas Special (30 Rock)\">Christmas Special</a>\" • \"<a href=\"/wiki/Secret_Santa_(30_Rock)\" title=\"Secret Santa (30 Rock)\">Secret Santa</a> (<i>30 Rock</i>) • \"<a href=\"/wiki/Christmas_Attack_Zone\" title=\"Christmas Attack Zone\">Christmas Attack Zone</a>\" • \"<a href=\"/wiki/Secret_Santa_(The_Office)\" title=\"Secret Santa (The Office)\">Secret Santa</a>\" (<i>The Office</i>) • \"<a href=\"/wiki/Classy_Christmas\" title=\"Classy Christmas\">Classy Christmas</a>\" • \"<a href=\"/wiki/Christmas_Wishes_(The_Office)\" title=\"Christmas Wishes (The Office)\">Christmas Wishes</a>\" • \"<a href=\"/wiki/Josh_and_Mindy%27s_Christmas_Party\" title=\"Josh and Mindy's Christmas Party\">Josh and Mindy's Christmas Party</a>\" • \"<a href=\"/wiki/Mr._Monk_and_the_Miracle\" title=\"Mr. Monk and the Miracle\">Mr. Monk and the Miracle</a>\"\n </td></tr>\n <tr>\n <td style=\"background-color: black\"> <b><font style=\"color:#f3e5b6\">Animated specials and episodes</font></b>\n </td><td> \"<a href=\"/wiki/Dickens_of_a_Christmas_(Back_to_the_Future)\" title=\"Dickens of a Christmas (Back to the Future)\">Dickens of a Christmas</a>\" • <i><a href=\"/wiki/A_Wish_For_Wings_That_Work\" title=\"A Wish For Wings That Work\">A Wish For Wings That Work</a></i> • \"<a href=\"/wiki/For_Whom_the_Jingle_Bell_Tolls_(Earthworm_Jim)\" title=\"For Whom the Jingle Bell Tolls (Earthworm Jim)\">For Whom the Jingle Bell Tolls</a>\" • \"<a href=\"/wiki/A_Christmas_Peril\" title=\"A Christmas Peril\">A Christmas Peril</a>\" • \"<a href=\"/wiki/Ms._Banshee%27s_Holiday_Hits\" title=\"Ms. Banshee's Holiday Hits\">Ms. Banshee's Holiday Hits</a>\" • \"<a href=\"/wiki/Fright_Before_Christmas_(The_Spooktacular_New_Adventures_of_Casper)\" title=\"Fright Before Christmas (The Spooktacular New Adventures of Casper)\">Fright Before Christmas</a>\" • \"<a href=\"/wiki/A_Very_Woody_Christmas\" title=\"A Very Woody Christmas\">A Very Woody Christmas</a>\" • \"<a class=\"mw-redirect\" href=\"/wiki/It%27s_a_Chilly_Christmas_After_All\" title=\"It's a Chilly Christmas After All\">It's a Chilly Christmas After All</a>\" • \"<a href=\"/wiki/Yule_Get_Yours\" title=\"Yule Get Yours\">Yule Get Yours</a>\" • \"<a href=\"/wiki/The_Twelve_Lies_of_Christmas\" title=\"The Twelve Lies of Christmas\">The Twelve Lies of Christmas</a>\" • <i><a href=\"/wiki/How_Murray_Saved_Christmas\" title=\"How Murray Saved Christmas\">How Murray Saved Christmas</a></i> • \"<a href=\"/wiki/ChristMess_Eve\" title=\"ChristMess Eve\">ChristMess Eve</a>\"\n </td></tr></table>\n <!-- \n NewPP limit report\n Preprocessor node count: 221/300000\n Post‐expand include size: 5533/2097152 bytes\n Template argument size: 513/2097152 bytes\n Expensive parser function count: 0/100\n -->\n <!-- Saved in parser cache with key christmasspecials:pcache:idhash:9198-0!*!0!!*!2!* -->\n <noscript><link href=\"https://slot1-images.wikia.nocookie.net/__cb1575983949701/common/extensions/wikia/ImageLazyLoad/css/ImageLazyLoadNoScript.css\" rel=\"stylesheet\"/></noscript></div>]"
     },
     "execution_count": 114,
     "metadata": {},
     "output_type": "execute_result"
    },
    {
     "name": "stdout",
     "output_type": "stream",
     "text": ""
    }
   ],
   "source": [
    "monk.contents"
   ]
  },
  {
   "cell_type": "code",
   "execution_count": 130,
   "metadata": {},
   "outputs": [
    {
     "name": "stdout",
     "output_type": "stream",
     "text": "[<p>He's a... bad Santa.<br/>\nVery bad, bad, Santa.<br/>\nBad, bad, bad Santa.\n</p>, <p style=\"font-size:smaller;line-height:1em;text-align: right\"><cite style=\"font-style:normal;\">— Adrian Monk</cite></p>, <p>\"<b>Mr. Monk and the Man Who Shot Santa Claus</b>\" is the third <a href=\"/wiki/Christmas\" title=\"Christmas\">Christmas</a> episode of the USA Network original series <i><a class=\"extiw\" href=\"http://en.wikipedia.org/wiki/Monk_(TV_series)\" title=\"wikipedia:Monk (TV series)\">Monk</a></i>, produced and aired as the tenth episode of the its sixth season.\n</p>, <p>Another Christmas shopping season, which fills Adrian Monk's heart with dread. <a class=\"extiw\" href=\"http://en.wikipedia.org/wiki/Natalie_Teeger\" title=\"wikipedia:Natalie Teeger\">Natalie Teeger</a> is fighting a Christmastime traffic jam in San Francisco to get Monk to his appointment with <a class=\"extiw\" href=\"http://en.wikipedia.org/wiki/Charles_Kroger\" title=\"wikipedia:Charles Kroger\">Dr. Kroger</a>, while her daughter <a class=\"extiw\" href=\"http://en.wikipedia.org/wiki/Julie_Teeger\" title=\"wikipedia:Julie Teeger\">Julie</a> is sitting in the back seat. Julie notices that they're outside of the MacMillan Museum, which is housing a diamond, named the <a class=\"extiw\" href=\"http://en.wikipedia.org/wiki/Star_of_Bethlehem\" title=\"wikipedia:Star of Bethlehem\">Star of Bethlehem</a>, and Monk complains about how much he hates missing his sessions, because it takes him three to four more sessions just to get over the stress. He is also grousing about how much he hates Christmas (as Natalie confides to Julie, <a class=\"extiw\" href=\"http://en.wikipedia.org/wiki/Trudy_Monk\" title=\"wikipedia:Trudy Monk\">Trudy</a> died ten years ago that December, or to be more precise, 10 years and 5 days ago). Suddenly, traffic comes to a dead stop when a former parole officer named Michael Kenworthy, dressed in a <a href=\"/wiki/Santa_Claus\" title=\"Santa Claus\">Santa Claus</a> outfit starts showering toys on the street from a roof, shouting \"Merry Christmas.\" Furious that Kenworthy is disrupting traffic, Monk heads up, alone, and a few minutes later, Natalie and Julie are alarmed to hear two gunshots. They run up to the roof and see Monk, holding a gun, standing over Kenworthy, who has been shot twice in his right arm.\n</p>, <p>As Kenworthy is carried on a stretcher to a waiting ambulance, he fingers Monk in the shooting, which infuriates the crowd. <a class=\"extiw\" href=\"http://en.wikipedia.org/wiki/Leland_Stottlemeyer\" title=\"wikipedia:Leland Stottlemeyer\">Captain Stottlemeyer</a> and <a class=\"extiw\" href=\"http://en.wikipedia.org/wiki/Randy_Disher\" title=\"wikipedia:Randy Disher\">Lieutenant Disher</a> place Monk under arrest, however it's actually staged and for protective custory. The situation is made worse by sensationalist news reporter Brandy Barber (<a class=\"extiw\" href=\"http://en.wikipedia.org/wiki/Gina_Philips\" title=\"wikipedia:Gina Philips\">Gina Philips</a>) and her cameraman who seize on the story, broadcasting Monk as \"The Man Who Shot Santa Claus.\"\n</p>, <p>At the police station, Monk give his version of the events to Stottlemeyer, Disher, and Garrett Price, his lawyer. Monk says that he went up to confront Kenworthy about his activities, but was about to give up and head downstairs when all of a sudden, a gun fell out of Kenworthy's pocket. He started asking Kenworthy questions about the weapon, and is attacked by him. During the fight Monk grabbed Kenworthy's gun, and just as Kenworthy was about to swing a pipe at him, Monk shoots him in self-defense.\n</p>, <p class=\"caption\">Adrian Monk tells the San Francisco Police what really happened when he met a man in a Santa suit before shooting him.</p>, <p>Despite these facts, the misperception of Monk as being a modern <a href=\"/wiki/Ebenezer_Scrooge\" title=\"Ebenezer Scrooge\">Ebenezer Scrooge</a> reaches large numbers of people. Monk quickly figures this out when he and Natalie are suddenly getting harassed everywhere they go. When they go to a store and Monk is fussing over gift wrapping, a crowd surrounds him. Natalie has to grab Monk and they head out via a back way, though Monk ends up knocking over a number of store cardboard cutouts in the process. Monk decides to \"take the offensive,\" and accept Brandy's offer to go on TV and tell his side of the story. Natalie warns him not to, as Brandy will manipulate his words and he will come out looking worse than ever, but he remains confident that \"truth is on his side\". During the interview, which takes place in a dressed up version of Monk's apartment, Natalie begs Brandy to be merciful, but Brandy - in her sweet, saccharine way - smells blood in the water. After a few innocuous questions, she produces the ivory piece that was dug up from his yard. and compares it to the photo of the gun. Monk denies burying the gun in the park, but admits that he recognizes the gun he shot Santa with. Then, an exasperated Monk inadvertently fulfills Brandy's wildest fantasies by looking straight into the camera and saying, \"I did not shoot Santa Claus. That man was not Santa Claus... there's no such thing as Santa Claus\" -- On citywide television, with families and hundreds of small children watching.\n</p>, <p>Acting on the suspicion that Monk might have stumbled upon something more than a simple toy giveaway, Stottlemeyer and Disher go to Kenworthy's apartment to question him. When asked about what he was doing on the roof when Monk shot him, Kenworthy just shrugs and claims that he loves Christmas and wanted to give away some toys. Stottlemeyer, however, is not convinced by this story, and notes that they've checked Kenworthy's phone records, and have discovered that he has been regularly contacted for the past few weeks by several of the ex-cons who were under his supervision before he retired. Kenworthy defends them, claiming that he likes simply keeping in touch with them, but Stottlemeyer notes that these \"good guys\" are as hardened a crew of thieves and grifters as have even been guests of the state prisoners, who have been charged with crimes like grand theft auto, burglary, attempted murder, etc. Kenworthy insists that the Lieutenant has no evidence of his accusations, and he kicks him out. With a predatory smile, Stottlemeyer let's him know in no uncertain terms that he's not entirely convinced of his innocence.\n</p>, <p>That night, Alice DuBois an employee at the MacMillan Museum is walking home from work and passes Kenworthy, who is out on the street posing as a sidewalk Santa with a coin deposit box, and ringing a bell. As DuBois is entering her building, Thorne, one of Kenworthy's knife-wielding ex-cons attacks her. She fends off Thorne by attacking him with pepper spray. Kenworthy, seeing his ex-con attacking the victim, seems to be coming to the rescue. Dubois thanks Kenworthy and tells him what the man tried to do, but he turns on her, bludgeoning the luckless old lady to death with his bell. At the scene of the crime, Stottlemeyer, Disher, Monk, and Teeger investigate the scene, but a crowd notices Monk and harasses him and the rest of the SFPD. Stottlemeyer confronts the crowd and chases Monk and Teeger out of the way. Still examining the crime, Monk notices debris such as broken candy canes, cigarette butts, and that Ms. DuBois was struck by somebody who was left handed and used a large brass bell. He is still convinced that all the evidence proves that Kenworthy as the killer, but Natalie assumes he's merely obsessivley fixating on him.\n</p>, <p>In a session with Dr. Kroger, Monk talks about how Christmas has always been one of the most miserable times of his life, the exception being his years with Trudy. She loved Christmas, and always made Monk see the positive side of it, whereas his childhood Christmases were always bleak. When Dr. Kroger picks a random year from Monk's childhood (1964), Monk relates: their mother was sick, his brother Ambrose locked himself in the basement until the holiday was over, and his father gave him a single walkie-talkie as a gift - saying that Adrian only needed one, since he had no friends he needed to talk to. But mulling over this morose detail leads Adrian to remember something about the shooting, and he solves the case. He heads out of the office via the front door despite Dr. Kroger's warning not to do so, to be mobbed by another crowd, this time of traumatized children who are now patients of Kroger, thanks to Monk's ill-fated news interview.\n</p>, <p>Monk and Natalie return to the roof where the shooting took place. He explains that when he was remembering the single walkie-talkie, he suddenly remembered that when Lieutenant Disher was running an inventory of the items in Kenworthy's toy bag after the shooting, he logged in a single walkie-talkie. Natalie initially thinks it may have been a lookout, but Monk realizes it was a diversion because lookouts tend to be more subtle. He also notices that he spoiled Kenworthy's originally intended crime, which was to steal the Star of Bethlehem diamond, and that the attempted crime is about to happen again. Just then Brandy Barber is doing a news report on the museum exhibit revolving around the diamond. During the report, Kenworthy and his gang steal the diamond right out in the open. As the thieves hand Kenworthy the diamond, Monk spots him and demands that the police are called. He chases Kenworthy through the streets of San Francisco, with Ms. Barber and her cameraman close behind. In front of a group of children singing Chiristmas carols near a Christmas display in a park, Kenworthy tries to steal a morotcycle, but Monk stops him. Both fight it out in front of the children who continue to sing as if nothing is happening, until Kenworthy pulls out a knife and threatens to kill him for thwarting his earlier burglary plot. Fortunatley, Monk clobbers him with a huge plastic candy cane. Kenworthy and his gang are arrested on the spot and Brandy Barber suddenly changes her tune painting Monk as \"the man who saved Christmas.\" Natalie and Julie spend Christmas Eve at his apartment, and coax him to smile for a group photograph with them.\n</p>]\n"
    }
   ],
   "source": [
    "# NOT THE RIGHT WAY TO DO THIS, i am screwing around\n",
    "for item in monk.contents:\n",
    "     print(item.find_all('p')) # get content paragraphs\n",
    "    # print(item.find_all('table'))\n",
    "     print([i for i in item.find('h2').next_siblings]) # get related articles"
   ]
  },
  {
   "cell_type": "code",
   "execution_count": 99,
   "metadata": {},
   "outputs": [
    {
     "name": "stdout",
     "output_type": "stream",
     "text": "✔ Processing chunks ===> Done\n"
    },
    {
     "data": {
      "text/plain": "<halo.halo.Halo at 0x1092c4fa0>"
     },
     "execution_count": 99,
     "metadata": {},
     "output_type": "execute_result"
    }
   ],
   "source": [
    "spinner.text = f'Processing chunks: {chunks_done}/{chunks_left}'\n",
    "\n",
    "'''Process the chunks'''\n",
    "while len(chunks) > 0:\n",
    "    current_link = chunks.pop()\n",
    "    soup = get_soup(url + current_link)\n",
    "    current_table = soup.find('table', \n",
    "    {'class': ['allpageslist', 'mw-allpages-table-chunk']})\n",
    "    if 'allpageslist' in current_table.get('class'):\n",
    "        child_chunks = get_links(current_table)\n",
    "        chunks = chunks.union(child_chunks)\n",
    "        chunks_left += len(child_chunks)\n",
    "    if 'mw-allpages-table-chunk' in current_table.get('class'):\n",
    "        for child in current_table.children:\n",
    "            if isinstance(child, NavigableString):\n",
    "                continue\n",
    "            else:\n",
    "                for link in child.find_all('a', href=True):\n",
    "                    article_link = link['href']\n",
    "                    article = article_link.split('/')[-1]\n",
    "                    articles.add((article, article.replace('_', ' ')))\n",
    "      \n",
    "    chunks_done += 1\n",
    "    spinner.text = f'Processing chunks: {chunks_done}/{chunks_left}'\n",
    "\n",
    "spinner.succeed(text='Processing chunks ===> Done')"
   ]
  },
  {
   "cell_type": "code",
   "execution_count": 49,
   "metadata": {},
   "outputs": [
    {
     "data": {
      "text/plain": "8684"
     },
     "execution_count": 49,
     "metadata": {},
     "output_type": "execute_result"
    },
    {
     "name": "stdout",
     "output_type": "stream",
     "text": ""
    }
   ],
   "source": [
    "len(articles)"
   ]
  },
  {
   "cell_type": "code",
   "execution_count": 100,
   "metadata": {},
   "outputs": [
    {
     "name": "stdout",
     "output_type": "stream",
     "text": "⠋ Printing 8684 articles⠙ Printing 8684 articles✔ Printing 8684 articles. ===> Done\n"
    },
    {
     "data": {
      "text/plain": "<halo.halo.Halo at 0x10a5c2940>"
     },
     "execution_count": 100,
     "metadata": {},
     "output_type": "execute_result"
    }
   ],
   "source": [
    "spinner = Halo(text=f'Printing {len(articles)} articles')\n",
    "spinner.start()\n",
    "\n",
    "# for article in sorted(articles):\n",
    "#    with open(f'{article}.txt', 'w') as outfile:\n",
    "#        outfile.write(article)\n",
    "#        outfile.write('\\n')\n",
    "\n",
    "spinner.succeed(text=f'Printing {len(articles)} articles. ===> Done')"
   ]
  },
  {
   "cell_type": "code",
   "execution_count": null,
   "metadata": {},
   "outputs": [],
   "source": []
  }
 ]
}