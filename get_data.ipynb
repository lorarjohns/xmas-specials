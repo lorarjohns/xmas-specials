{
 "nbformat": 4,
 "nbformat_minor": 2,
 "metadata": {
  "language_info": {
   "name": "python",
   "codemirror_mode": {
    "name": "ipython",
    "version": 3
   },
   "version": "3.8.0"
  },
  "orig_nbformat": 2,
  "file_extension": ".py",
  "mimetype": "text/x-python",
  "name": "python",
  "npconvert_exporter": "python",
  "pygments_lexer": "ipython3",
  "version": 3
 },
 "cells": [
  {
   "cell_type": "code",
   "execution_count": 73,
   "metadata": {},
   "outputs": [
    {
     "name": "stdout",
     "output_type": "stream",
     "text": ""
    }
   ],
   "source": [
    "import requests\n",
    "from collections import namedtuple\n",
    "# import validators\n",
    "from bs4 import BeautifulSoup, NavigableString\n",
    "from halo import Halo\n",
    "def get_soup(url):\n",
    "    '''\n",
    "    Returns a BeautifulSoup version of a web page.\n",
    "    '''\n",
    "    response = requests.get(url)\n",
    "    content = response.text\n",
    "    return BeautifulSoup(content)\n",
    "\n",
    "def get_links(table):\n",
    "    '''\n",
    "    Retrieves links from an embedded tabular structure.\n",
    "    '''\n",
    "    links = set()\n",
    "    for child in table.children:\n",
    "        for link in child.find_all('a', href=True):\n",
    "            links.add(link['href'])\n",
    "\n",
    "    return links"
   ]
  },
  {
   "cell_type": "code",
   "execution_count": 0,
   "metadata": {},
   "outputs": [],
   "source": [
    "url = 'http://christmas-specials.wikia.com/'\n",
    "    #data='xmas'\n",
    "    # if not validators.url(url):\n",
    "    #     print('Invalid URL')\n",
    "    # path = pathlib.Path(data)\n",
    "\n",
    "spinner = Halo(text='Fetching article list . . .')\n",
    "spinner.start()\n",
    "    \n",
    "soup = get_soup(url + '/wiki/Special:AllPages')\n",
    "spinner.succeed(text='Fetching list ===> Done')\n",
    "\n",
    "'''Process the articles'''\n",
    "\n",
    "articles = set()\n",
    "\n",
    "spinner = Halo(text='Processing articles . . .')\n",
    "spinner.start()\n",
    "\n",
    "table_chunks = soup.find('table', \n",
    "        {'class': ['allpageslist', 'mw-allpages-table-chunk']})\n",
    "    \n",
    "chunks = set(get_links(table_chunks))\n",
    "\n",
    "chunks_done = 0\n",
    "chunks_left = len(chunks)"
   ]
  },
  {
   "cell_type": "code",
   "execution_count": 0,
   "metadata": {},
   "outputs": [],
   "source": [
    "# proof of concept\n",
    "\n",
    "article = '/wiki/Mr._Monk_and_the_Man_Who_Shot_Santa_Claus'\n",
    "\n",
    "def get_article_data(article, url='http://christmas-specials.wikia.com/'):\n",
    "    Article = namedtuple('Article', 'title contents categories related')\n",
    "    article_soup = get_soup(url + article)\n",
    "    article_title = article_soup.find('h1').text\n",
    "    # article_contents = article_soup.find_all('div', {'class': ['mw-content-ltr', 'mw-content-text', 'mw-collapsible', 'mw-made-collapsible']})\n",
    "    related = set()\n",
    "    for tag in soup.select('h2 ~ ul > li'):\n",
    "        related.add((tag.text, tag.a['href']))\n",
    "\n",
    "    article_contents = ' '.join([p.text for p in article_soup.find_all('p')])\n",
    "    article_categories = [li['data-name'] for li in article_soup.find_all('li', {'class': 'category normal', 'data-type': 'normal'})]\n",
    "    article = Article(title=article_title, contents=article_contents, categories=article_categories, related=related)\n",
    "    return article\n",
    "\n",
    "monk = get_article_data(article)"
   ]
  },
  {
   "cell_type": "code",
   "execution_count": 220,
   "metadata": {},
   "outputs": [
    {
     "name": "stdout",
     "output_type": "stream",
     "text": "Mr. Monk and the Man Who Shot Santa Claus\n['Episodes', 'Originally aired on the USA Network', '2007 releases', 'Universal Studios', 'ABC Studios']\n[('\"Mr. Monk and the Secret Santa\"\\n', '/wiki/Mr._Monk_and_the_Secret_Santa'), ('\"Mr. Monk Meets His Dad\"\\n', '/wiki/Mr._Monk_Meets_His_Dad'), ('\"Mr. Monk and the Miracle\"\\n', '/wiki/Mr._Monk_and_the_Miracle'), ('\"Mr. Monk and the Man Who Shot Santa Claus\" at the Internet Movie Database\\n', 'http://www.imdb.com/title/tttt1111043/'), ('\"Mr. Monk and the Man Who Shot Santa Claus\" at The Daily.WAV\\n', 'http://www.dailywav.com/program.php?Program=Monk')]\nHe's a... bad Santa.\nVery bad, bad, Santa.\nBad, bad, bad Santa.\n — Adrian Monk \"Mr. Monk and the Man Who Shot Santa Claus\" is the third Christmas episode of the USA Network original series Monk, produced and aired as the tenth episode of the its sixth season.\n Another Christmas shopping season, which fills Adrian Monk's heart with dread. Natalie Teeger is fighting a Christmastime traffic jam in San Francisco to get Monk to his appointment with Dr. Kroger, while her daughter Julie is sitting in the back seat. Julie notices that they're outside of the MacMillan Museum, which is housing a diamond, named the Star of Bethlehem, and Monk complains about how much he hates missing his sessions, because it takes him three to four more sessions just to get over the stress. He is also grousing about how much he hates Christmas (as Natalie confides to Julie, Trudy died ten years ago that December, or to be more precise, 10 years and 5 days ago). Suddenly, traffic comes to a dead stop when a former parole officer named Michael Kenworthy, dressed in a Santa Claus outfit starts showering toys on the street from a roof, shouting \"Merry Christmas.\" Furious that Kenworthy is disrupting traffic, Monk heads up, alone, and a few minutes later, Natalie and Julie are alarmed to hear two gunshots. They run up to the roof and see Monk, holding a gun, standing over Kenworthy, who has been shot twice in his right arm.\n As Kenworthy is carried on a stretcher to a waiting ambulance, he fingers Monk in the shooting, which infuriates the crowd. Captain Stottlemeyer and Lieutenant Disher place Monk under arrest, however it's actually staged and for protective custory. The situation is made worse by sensationalist news reporter Brandy Barber (Gina Philips) and her cameraman who seize on the story, broadcasting Monk as \"The Man Who Shot Santa Claus.\"\n At the police station, Monk give his version of the events to Stottlemeyer, Disher, and Garrett Price, his lawyer. Monk says that he went up to confront Kenworthy about his activities, but was about to give up and head downstairs when all of a sudden, a gun fell out of Kenworthy's pocket. He started asking Kenworthy questions about the weapon, and is attacked by him. During the fight Monk grabbed Kenworthy's gun, and just as Kenworthy was about to swing a pipe at him, Monk shoots him in self-defense.\n Adrian Monk tells the San Francisco Police what really happened when he met a man in a Santa suit before shooting him. Despite these facts, the misperception of Monk as being a modern Ebenezer Scrooge reaches large numbers of people. Monk quickly figures this out when he and Natalie are suddenly getting harassed everywhere they go. When they go to a store and Monk is fussing over gift wrapping, a crowd surrounds him. Natalie has to grab Monk and they head out via a back way, though Monk ends up knocking over a number of store cardboard cutouts in the process. Monk decides to \"take the offensive,\" and accept Brandy's offer to go on TV and tell his side of the story. Natalie warns him not to, as Brandy will manipulate his words and he will come out looking worse than ever, but he remains confident that \"truth is on his side\". During the interview, which takes place in a dressed up version of Monk's apartment, Natalie begs Brandy to be merciful, but Brandy - in her sweet, saccharine way - smells blood in the water. After a few innocuous questions, she produces the ivory piece that was dug up from his yard. and compares it to the photo of the gun. Monk denies burying the gun in the park, but admits that he recognizes the gun he shot Santa with. Then, an exasperated Monk inadvertently fulfills Brandy's wildest fantasies by looking straight into the camera and saying, \"I did not shoot Santa Claus. That man was not Santa Claus... there's no such thing as Santa Claus\" -- On citywide television, with families and hundreds of small children watching.\n Acting on the suspicion that Monk might have stumbled upon something more than a simple toy giveaway, Stottlemeyer and Disher go to Kenworthy's apartment to question him. When asked about what he was doing on the roof when Monk shot him, Kenworthy just shrugs and claims that he loves Christmas and wanted to give away some toys. Stottlemeyer, however, is not convinced by this story, and notes that they've checked Kenworthy's phone records, and have discovered that he has been regularly contacted for the past few weeks by several of the ex-cons who were under his supervision before he retired. Kenworthy defends them, claiming that he likes simply keeping in touch with them, but Stottlemeyer notes that these \"good guys\" are as hardened a crew of thieves and grifters as have even been guests of the state prisoners, who have been charged with crimes like grand theft auto, burglary, attempted murder, etc. Kenworthy insists that the Lieutenant has no evidence of his accusations, and he kicks him out. With a predatory smile, Stottlemeyer let's him know in no uncertain terms that he's not entirely convinced of his innocence.\n That night, Alice DuBois an employee at the MacMillan Museum is walking home from work and passes Kenworthy, who is out on the street posing as a sidewalk Santa with a coin deposit box, and ringing a bell. As DuBois is entering her building, Thorne, one of Kenworthy's knife-wielding ex-cons attacks her. She fends off Thorne by attacking him with pepper spray. Kenworthy, seeing his ex-con attacking the victim, seems to be coming to the rescue. Dubois thanks Kenworthy and tells him what the man tried to do, but he turns on her, bludgeoning the luckless old lady to death with his bell. At the scene of the crime, Stottlemeyer, Disher, Monk, and Teeger investigate the scene, but a crowd notices Monk and harasses him and the rest of the SFPD. Stottlemeyer confronts the crowd and chases Monk and Teeger out of the way. Still examining the crime, Monk notices debris such as broken candy canes, cigarette butts, and that Ms. DuBois was struck by somebody who was left handed and used a large brass bell. He is still convinced that all the evidence proves that Kenworthy as the killer, but Natalie assumes he's merely obsessivley fixating on him.\n In a session with Dr. Kroger, Monk talks about how Christmas has always been one of the most miserable times of his life, the exception being his years with Trudy. She loved Christmas, and always made Monk see the positive side of it, whereas his childhood Christmases were always bleak. When Dr. Kroger picks a random year from Monk's childhood (1964), Monk relates: their mother was sick, his brother Ambrose locked himself in the basement until the holiday was over, and his father gave him a single walkie-talkie as a gift - saying that Adrian only needed one, since he had no friends he needed to talk to. But mulling over this morose detail leads Adrian to remember something about the shooting, and he solves the case. He heads out of the office via the front door despite Dr. Kroger's warning not to do so, to be mobbed by another crowd, this time of traumatized children who are now patients of Kroger, thanks to Monk's ill-fated news interview.\n Monk and Natalie return to the roof where the shooting took place. He explains that when he was remembering the single walkie-talkie, he suddenly remembered that when Lieutenant Disher was running an inventory of the items in Kenworthy's toy bag after the shooting, he logged in a single walkie-talkie. Natalie initially thinks it may have been a lookout, but Monk realizes it was a diversion because lookouts tend to be more subtle. He also notices that he spoiled Kenworthy's originally intended crime, which was to steal the Star of Bethlehem diamond, and that the attempted crime is about to happen again. Just then Brandy Barber is doing a news report on the museum exhibit revolving around the diamond. During the report, Kenworthy and his gang steal the diamond right out in the open. As the thieves hand Kenworthy the diamond, Monk spots him and demands that the police are called. He chases Kenworthy through the streets of San Francisco, with Ms. Barber and her cameraman close behind. In front of a group of children singing Chiristmas carols near a Christmas display in a park, Kenworthy tries to steal a morotcycle, but Monk stops him. Both fight it out in front of the children who continue to sing as if nothing is happening, until Kenworthy pulls out a knife and threatens to kill him for thwarting his earlier burglary plot. Fortunatley, Monk clobbers him with a huge plastic candy cane. Kenworthy and his gang are arrested on the spot and Brandy Barber suddenly changes her tune painting Monk as \"the man who saved Christmas.\" Natalie and Julie spend Christmas Eve at his apartment, and coax him to smile for a group photograph with them.\n\n"
    }
   ],
   "source": [
    "print(monk.title)\n",
    "print(monk.categories)\n",
    "print(monk.related)\n",
    "print(monk.contents)"
   ]
  },
  {
   "cell_type": "code",
   "execution_count": 0,
   "metadata": {},
   "outputs": [],
   "source": [
    "spinner.text = f'Processing chunks: {chunks_done}/{chunks_left}'\n",
    "\n",
    "'''Process the chunks'''\n",
    "while len(chunks) > 0:\n",
    "    current_link = chunks.pop()\n",
    "    soup = get_soup(url + current_link)\n",
    "    current_table = soup.find('table', \n",
    "    {'class': ['allpageslist', 'mw-allpages-table-chunk']})\n",
    "    if 'allpageslist' in current_table.get('class'):\n",
    "        child_chunks = get_links(current_table)\n",
    "        chunks = chunks.union(child_chunks)\n",
    "        chunks_left += len(child_chunks)\n",
    "    if 'mw-allpages-table-chunk' in current_table.get('class'):\n",
    "        for child in current_table.children:\n",
    "            if isinstance(child, NavigableString):\n",
    "                continue\n",
    "            else:\n",
    "                for link in child.find_all('a', href=True):\n",
    "                    article_link = link['href']\n",
    "                    # article = article_link.split('/')[-1]\n",
    "                    # articles.add((article, article.replace('_', ' ')))\n",
    "                    try:\n",
    "                        articles.add(get_article_data(article_link))\n",
    "                    except Exception as e:\n",
    "                        print(e, article_link)\n",
    "      \n",
    "    chunks_done += 1\n",
    "    spinner.text = f'Processing chunks: {chunks_done}/{chunks_left}'\n",
    "\n",
    "spinner.succeed(text='Processing chunks ===> Done')"
   ]
  },
  {
   "cell_type": "code",
   "execution_count": 0,
   "metadata": {},
   "outputs": [],
   "source": [
    "len(articles)\n"
   ]
  },
  {
   "cell_type": "code",
   "execution_count": 100,
   "metadata": {},
   "outputs": [
    {
     "name": "stdout",
     "output_type": "stream",
     "text": "⠋ Printing 8684 articles⠙ Printing 8684 articles✔ Printing 8684 articles. ===> Done\n"
    },
    {
     "data": {
      "text/plain": "<halo.halo.Halo at 0x10a5c2940>"
     },
     "execution_count": 100,
     "metadata": {},
     "output_type": "execute_result"
    }
   ],
   "source": [
    "spinner = Halo(text=f'Printing {len(articles)} articles')\n",
    "spinner.start()\n",
    "\n",
    "# for article in sorted(articles):\n",
    "#    with open(f'{article}.txt', 'w') as outfile:\n",
    "#        outfile.write(article)\n",
    "#        outfile.write('\\n')\n",
    "\n",
    "spinner.succeed(text=f'Printing {len(articles)} articles. ===> Done')"
   ]
  },
  {
   "cell_type": "code",
   "execution_count": null,
   "metadata": {},
   "outputs": [],
   "source": []
  }
 ]
}